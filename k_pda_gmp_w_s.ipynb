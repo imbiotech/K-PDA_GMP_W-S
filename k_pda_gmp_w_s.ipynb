{
  "cells": [
    {
      "cell_type": "markdown",
      "metadata": {
        "colab_type": "text",
        "id": "view-in-github"
      },
      "source": [
        "<a href=\"https://colab.research.google.com/github/imbiotech/K-PDA_GMP_W-S/blob/main/k_pda_gmp_w_s.ipynb\" target=\"_parent\"><img src=\"https://colab.research.google.com/assets/colab-badge.svg\" alt=\"Open In Colab\"/></a>"
      ]
    },
    {
      "cell_type": "markdown",
      "metadata": {
        "id": "-x9fR19bmt9I"
      },
      "source": [
        "#10/06 한국 PDA GMP Workshop 교육 자료 공유"
      ]
    },
    {
      "cell_type": "markdown",
      "metadata": {
        "id": "ZWVRjXMrnSQw"
      },
      "source": [
        "# 서론\n",
        "---\n",
        "\n",
        "**지난 10/06 한국 PDA에서 주최한 GMP Workshop에 참석했습니다.**\n",
        "\n",
        "**최근 AI를 활용한 의약품 제조 및 품질 관리와 관련된 Workshop 이었으며, 그 중 이틀차 Python을 활용한 몇 가지 데이터 분석 실습 관련 세션에 참여하였습니다.**\n",
        "\n",
        "**최근 업계에서는 \"머신 러닝을 활용한 빅 데이터 처리 및 분석\" 등으로 이야기 하는 분야로서 우리 회사 내에 얼마나 적용 가능성이 있을 지는 지속적으로 검증이 필요한 부분 중 하나이나, 우선 관련 내용을 공유 드리기 위해 아래와 같이 정리하여 드리니 테스트 해보시고 적용 가능 분야를 같이 고민해 주시면 감사하겠습니다.**\n",
        "\n",
        "**아래 자료는 해당 세션의 강연자인 강원대 김화종 교수님의 자료를 편집 및 재가공한 것입니다.**\n",
        "\n",
        "---"
      ]
    },
    {
      "cell_type": "markdown",
      "metadata": {
        "id": "dtZW0VCcczmJ"
      },
      "source": [
        "# 목차\n",
        "\n",
        "\n",
        "\n",
        "\n",
        "- 개발 환경 (Development Environment)\n",
        "  - 콜랩 (Colab)이란?\n",
        "  - 파이썬 (Python)이란?\n",
        "  - 쥬피터 노트북 (Jupyter Notebook)이란?\n",
        "\n",
        "- 머신 러닝 (Machine Learning, ML)\n",
        "  - 데이터 다루기\n",
        "  - 데이터 전처리\n",
        "  - 분석법\n",
        "  - 분석 모델\n",
        "    - 회귀 모델\n",
        "    - 분류 모델\n",
        "    - 신경망 모델\n",
        "\n",
        "- 파이썬과 내부 사례 데이터를 활용한 간단한 머신 러닝 프로그램 구현"
      ]
    },
    {
      "cell_type": "markdown",
      "metadata": {
        "id": "smAJIExGmhHZ"
      },
      "source": [
        "# 개발 환경 (Development Environment)"
      ]
    },
    {
      "cell_type": "markdown",
      "metadata": {
        "id": "au1D-yHRczah"
      },
      "source": [
        "## 콜랩 (Colab)이란?\n",
        "- Colab은 구글에서 지원하는 파이썬을 개발 및 테스트 하기 위한 가상 기기 (Virtual machine)과 쥬피터 노트북\n",
        "- https://research.google.com/colaboratory/"
      ]
    },
    {
      "cell_type": "markdown",
      "metadata": {
        "id": "LL8r5CWknMxX"
      },
      "source": [
        "## 파이썬 (Python)이란?\n",
        "- 파이썬은 프로그래밍 언어 중 한 종류로 다른 프로그래밍 언어 대비 사용자 친화적인 체계를 가지고 있음\n",
        "- https://www.python.org/ (별도 설치 불필요)\n",
        "- 본 자료에서는 파이썬의 판다스 (pandas), 넘파이 (numpy), 맽플롯립 (matplotlib), 사이킷런 (sklearn), 케라스 (keras) 총 5 개 라이브러리를 사용하여 머신 러닝을 구현할 예정"
      ]
    },
    {
      "cell_type": "markdown",
      "metadata": {
        "id": "ZSx1H8S0epy4"
      },
      "source": [
        "###라이브러리란?\n",
        "- 각각의 프로그래밍 언어는 기본적으로 지원하는 함수나 기능이 존재함\n",
        "  - 단순한 사칙 연산부터 좀 더 복잡한 행렬, 함수, 방정식 등의 계산\n",
        "  - 입력과 출력 등의 하드웨어 관련 기능\n",
        "  - 시스템에 대한 접근 등의 소프트웨어 관련 기능\n",
        "\n",
        "  등\n",
        "\n",
        "- 하지만 기본적인 기능 외에 추가적으로 필요한 기능은 유저들이 직접 구현해야 함\n",
        "- 특정 영역에 필요한 여러 기능들을 담아놓은 묶음 (모듈, module)을 라이브러리라고 부름\n",
        "- 다행히도 이 중 상당수가 오픈 소스로 공개되어 있어 무료로 사용 가능하고 인터넷에서 손쉽게 사용법을 찾아볼 수 있으며, 본 교육 자료에서 사용하기 위한 라이브러리 역시 오픈 소스들임"
      ]
    },
    {
      "cell_type": "markdown",
      "metadata": {
        "id": "qlYD11xJnMnW"
      },
      "source": [
        "## 쥬피터 노트북 (Jupyter Notebook)이란?\n",
        "- 쥬피터 노트북은 웹 사이트를 기반으로 한 개발 환경.\n",
        "- 개발을 위한 별도의 프로그램 (Integrated Development Environment, IDE) 설치없이 사용 가능\n",
        "- 단순 코드의 작성 및 실행 뿐만 아니라 텍스트(Markdown), 그래프(Graph), 그림(Image)과 같은 추가 자료를 첨부할 수 있는 시스템"
      ]
    },
    {
      "cell_type": "markdown",
      "metadata": {
        "id": "pwd07QiRhOi7"
      },
      "source": [
        "# 머신 러닝 (Machine Learning, ML)\n",
        "\n",
        "- 수치를 예측 (회귀) / 카테고리를 예측 (분류) / 최적의 추천 등의 작업을 수행하는 소프트웨어\n",
        "- 데이터를 통한 학습으로 작업 성능을 개선할 수 있음\n",
        "- 현재 인공 지능(Artificial Intelligence, AI)을 구현하는 가장 대표적인 방법으로 머신 러닝이 사용되고 있음\n",
        "- 머신 러닝의 기본 동작은 다음과 같은 체계로 이뤄짐\n",
        "<img src=\"https://raw.githubusercontent.com/data-labs/image/main/%E1%84%89%E1%85%B3%E1%84%8F%E1%85%B3%E1%84%85%E1%85%B5%E1%86%AB%E1%84%89%E1%85%A3%E1%86%BA%202020-12-29%20%E1%84%8B%E1%85%A9%E1%84%92%E1%85%AE%2010.08.38.png?raw=1\" align='left'>\n",
        "\n",
        "\n",
        "\n",
        "\n",
        "\n"
      ]
    },
    {
      "cell_type": "markdown",
      "metadata": {
        "id": "a5fzzf1-nreo"
      },
      "source": [
        "## 데이터 (X)\n",
        "  - 데이터의 종류\n",
        "    - 훈련 데이터 (Training Set): 모델을 학습하기 위한 데이터\n",
        "    - 검증 데이터 (Validation Set): 학습 시킨 모델의 정확도를 검증하기 위한 데이터, 반드시 훈련 데이터와는 다른 데이터여야 함\n",
        "    - 정형 데이터 (Structured Data): 테이블 형태의 데이터\n",
        "    - 비정형 데이터 (Unstructured Data): 이미지, 텍스트, 영상, 센서 데이터 등 정형화되어 있지 않은 형태의 데이터\n",
        "  - 머신 러닝은 학습에 사용하는 데이터가 많으면 많을 수록 예측 및 추천 성능이 향상됨\n",
        "  - 머신 러닝의 성능을 높이기 위해서는 원시 데이터 (Raw Data)로부터 적절한 학습 및 검증 데이터를 만들기 위한 데이터 전처리 (Data Preprocessing) 과정이 필요함\n",
        "\n"
      ]
    },
    {
      "cell_type": "markdown",
      "metadata": {
        "id": "qFbK4up6nsuR"
      },
      "source": [
        "## 머신러닝 모델\n",
        "- 입력 데이터 (X)로부터 잘 예측된 정답 (label 또는 target, y)를 얻는 소프트웨어\n",
        "  - 정답을 잘 예측하기 위해서 각 모델을 구성하는 파라미터의 최적치를 찾아야 함\n",
        "- 모델에는 다음과 같이 다양한 종류가 있음.\n",
        "  - 선형 모델\n",
        "  - 로지스틱 회귀\n",
        "  - SVM\n",
        "  - 결정 트리\n",
        "  - 랜덤 포레스트\n",
        "  - kNN\n",
        "  - 베이시언\n",
        "  - 딥러닝 모델 (MLP, CNN, RNN 등)\n"
      ]
    },
    {
      "cell_type": "markdown",
      "metadata": {
        "id": "IBESa4fHntjI"
      },
      "source": [
        "## 목적\n",
        "- 머신 러닝의 목적은 다음 중 하나임.\n",
        "  - 예측 (Prediction)\n",
        "    - 회귀 예측 (Regression prediction): 수치를 예측\n",
        "    - 분류 예측 (Classificaion prediction): 대상의 카테고리를 예측\n",
        "  - 설명 (Description); 확인 필요\n",
        "  - 군집화 (Clustering); 확인 필요\n",
        "  - 추천 (Recommendation); 확인 필요"
      ]
    },
    {
      "cell_type": "markdown",
      "metadata": {
        "id": "F8N5j_NwnvCq"
      },
      "source": [
        "## 성능 평가\n",
        "- 작성된 머신 러닝 모델이 원하는 작업을 잘 수행하는지 평가하는 값\n",
        "- 주요 평가 척도\n",
        "  - 회귀 모델에서의 R-sqared (R^2)\n",
        "  - 분류 모델에서의 정확도 (Accuracy), 정밀도 (Precision), 리콜 (Recall), f-1 점수, ROC-AUC 등\n"
      ]
    },
    {
      "cell_type": "markdown",
      "metadata": {
        "id": "ybMVJQtCnwX-"
      },
      "source": [
        "## 최적화기\n",
        "- 학습을 통해 모델 파라미터를 최적의 값으로 수렴시키는 알고리즘\n",
        "- 일반적으로 경사 하강법 (Gradient descent, GD)이 사용됨\n",
        "\n"
      ]
    },
    {
      "cell_type": "markdown",
      "metadata": {
        "id": "62hfziqXnxMo"
      },
      "source": [
        "## 손실 함수 (Loss function)\n",
        "- 최적화기를 통해 손실 함수를 최소화하는 방향을 추구\n",
        "- 손실 함수를 통해 최적화기의 동작이 잘 이뤄지는지를 평가할 수 있음\n",
        "- 손실 함수의 종류\n",
        "  - 회귀 모델에서의 평균 제곱 오차 (Mean square error, MSE)\n",
        "  - 분류 모델에서의 교차 엔트로피 (Cross entropy, CE)"
      ]
    },
    {
      "cell_type": "markdown",
      "metadata": {
        "id": "YEbRV9_9tiZg"
      },
      "source": [
        "# 파이썬과 내부 사례 데이터를 활용한 간단한 머신 러닝 프로그램 구현"
      ]
    },
    {
      "cell_type": "markdown",
      "metadata": {
        "id": "cHi7cuUbt3N5"
      },
      "source": [
        "## A 제품 수율 예측\n",
        "- 대상 제품 및 공정: A 제품의 a 공정 및 b 공정\n",
        "- 분석 개요: 공정 중 몇 가지 파라미터 p1, p2... 의 변화에 따른 수율 영향성을 평가하고, 수율을 예측"
      ]
    },
    {
      "cell_type": "markdown",
      "metadata": {
        "id": "04q_Sliwelrj"
      },
      "source": [
        "## 데이터 준비\n",
        "- 본 케이스 스터디에서 다룰 데이터는 2가지 테이블로 다음과 같음\n",
        "  - 배치 번호, 공정, 기기 번호, 작업 시간의 데이터를 담은 테이블\n",
        "  - 계측 시간 및 계측 번호에 따른 계측값 데이터를 담은 테이블\n",
        "- 데이터는 WMS와 BAS를 통해 추출하였으며, 각 데이터 마다 적절한 1 차 sorting을 통해 불필요한 데이터를 정제한 상태임\n",
        "\n",
        "- 이 데이터를 pandas 라이브러리에서 제공하는 read_csv() 함수를 사용하여 읽어온 후 분석에 사용할 예정\n",
        "- pandas의 read_csv() 함수는 csv 파일의 데이터를 읽어와 데이터 프레임 (Dataframe, DF)의 형태로 출력함\n",
        "  - DF는 행과 열로 구성된 2 차원 테이블 구조의 데이터\n",
        "  - 엑셀과 비슷한 기능을 수행할 수 있음"
      ]
    },
    {
      "cell_type": "markdown",
      "metadata": {
        "id": "LLUKQetWpYa6"
      },
      "source": [
        "### CSV란?\n",
        "- 쉼표 (,)로 구분된 데이터 값 (Comma-Separated Values)이 담긴 파일 형식\n",
        "- 단순한 텍스트 형식의 데이터 값으로 웹 페이지, 메모장, 엑셀 등등 어느 프로그램으로도 읽어올 수 있는 장점이 있음\n",
        "- 꼭 쉼표가 아니더라도 공백 ( )이나 세로 선 (|) 등 특정 기호로 나눠져 있는 모든 데이터 파일을 의미"
      ]
    },
    {
      "cell_type": "markdown",
      "metadata": {
        "id": "zWBRMrgflzAK"
      },
      "source": [
        "---\n",
        "아래에 보이는 각각의 코드 블록은 순차적으로 실행하는 방식\n",
        "\n",
        "위쪽의 코드 블록을 실행하지 않으면 아래쪽을 실행하는 과정에서 오류가 발생할 수 있음\n",
        "\n",
        "---"
      ]
    },
    {
      "cell_type": "code",
      "execution_count": 27,
      "metadata": {
        "id": "3OWJDZreek9H"
      },
      "outputs": [],
      "source": [
        "# 훈련 데이터의 URL 주소 설정\n",
        "process_time_data_address = \"https://raw.githubusercontent.com/imbiotech/K-PDA_GMP_W-S/main/process_time_data.csv\"\n",
        "measure_data_address = \"https://raw.githubusercontent.com/imbiotech/K-PDA_GMP_W-S/main/measure_data.csv\"\n",
        "\n",
        "\n",
        "# 파이썬 코드의 #은 한 줄 주석문을 나타내는 것으로 각 코드의 설명을 기록하기 위해 작성함\n",
        "# 여러 줄을 사용하기 위해 '''''' 방식으로 사용하기도 함"
      ]
    },
    {
      "cell_type": "code",
      "execution_count": 28,
      "metadata": {
        "id": "PN5yBfdVkXoK"
      },
      "outputs": [],
      "source": [
        "# pandas 라이브러리를 가져옴\n",
        "import pandas\n",
        "\n",
        "\n",
        "# 데이터 URL에 저장된 데이터를 dataframe 형태로 읽어옴\n",
        "process_df = pandas.read_csv(process_time_data_address)\n",
        "measure_df = pandas.read_csv(measure_data_address)"
      ]
    },
    {
      "cell_type": "markdown",
      "metadata": {},
      "source": [
        "\n",
        "- 파이썬에서는 복잡한 과정 없이 한 줄의 코드를 통해 필요한 라이브러리의 기능을 사용할 수 있음\n",
        "\n",
        "- 이름이 길어서 pandas를 매번 쓰기 귀찮을 경우 뒤 쪽에 \"as pd\"를 덧붙이면 pandas 대신 pd만 사용하여도 기능을 사용할 수 있음\n",
        "\n",
        "    - import pandas as pd\n",
        "\n",
        "---\n",
        "\n",
        "- pandas.read_csv()는 pandas 라이브러리 내에 있는 read_csv 함수를 호출하여 사용함\n",
        "    - read_csv 함수는 괄호 안의 주소 (data_address)에 있는 csv형태의 데이터를 읽어옴\n",
        "\n",
        "- 이 데이터를 CPU에 \"df\"라는 이름의 변수로 저장하고 이후에는 df만 호출하면 해당 데이터를 불러올 수 있음\n",
        "\n"
      ]
    },
    {
      "cell_type": "code",
      "execution_count": 29,
      "metadata": {
        "id": "xkxzwYHgczTe"
      },
      "outputs": [
        {
          "data": {
            "text/html": [
              "<div>\n",
              "<style scoped>\n",
              "    .dataframe tbody tr th:only-of-type {\n",
              "        vertical-align: middle;\n",
              "    }\n",
              "\n",
              "    .dataframe tbody tr th {\n",
              "        vertical-align: top;\n",
              "    }\n",
              "\n",
              "    .dataframe thead th {\n",
              "        text-align: right;\n",
              "    }\n",
              "</style>\n",
              "<table border=\"1\" class=\"dataframe\">\n",
              "  <thead>\n",
              "    <tr style=\"text-align: right;\">\n",
              "      <th></th>\n",
              "      <th>Batch</th>\n",
              "      <th>Process</th>\n",
              "      <th>Equipment</th>\n",
              "      <th>Start</th>\n",
              "      <th>End</th>\n",
              "    </tr>\n",
              "  </thead>\n",
              "  <tbody>\n",
              "    <tr>\n",
              "      <th>0</th>\n",
              "      <td>1</td>\n",
              "      <td>a</td>\n",
              "      <td>R-1107</td>\n",
              "      <td>2021-01-09 11:00</td>\n",
              "      <td>2021-01-09 19:02</td>\n",
              "    </tr>\n",
              "    <tr>\n",
              "      <th>1</th>\n",
              "      <td>1</td>\n",
              "      <td>b</td>\n",
              "      <td>R-1107</td>\n",
              "      <td>2021-01-09 19:02</td>\n",
              "      <td>2021-01-10 09:03</td>\n",
              "    </tr>\n",
              "    <tr>\n",
              "      <th>2</th>\n",
              "      <td>2</td>\n",
              "      <td>a</td>\n",
              "      <td>R-1108</td>\n",
              "      <td>2021-01-10 13:30</td>\n",
              "      <td>2021-01-10 21:35</td>\n",
              "    </tr>\n",
              "  </tbody>\n",
              "</table>\n",
              "</div>"
            ],
            "text/plain": [
              "   Batch Process Equipment             Start               End\n",
              "0      1       a    R-1107  2021-01-09 11:00  2021-01-09 19:02\n",
              "1      1       b    R-1107  2021-01-09 19:02  2021-01-10 09:03\n",
              "2      2       a    R-1108  2021-01-10 13:30  2021-01-10 21:35"
            ]
          },
          "execution_count": 29,
          "metadata": {},
          "output_type": "execute_result"
        }
      ],
      "source": [
        "# df에 제대로 된 데이터가 들어왔는지 확인하기 위해 0~2행을 예시 출력\n",
        "process_df[:3]"
      ]
    },
    {
      "cell_type": "code",
      "execution_count": 30,
      "metadata": {},
      "outputs": [
        {
          "data": {
            "text/html": [
              "<div>\n",
              "<style scoped>\n",
              "    .dataframe tbody tr th:only-of-type {\n",
              "        vertical-align: middle;\n",
              "    }\n",
              "\n",
              "    .dataframe tbody tr th {\n",
              "        vertical-align: top;\n",
              "    }\n",
              "\n",
              "    .dataframe thead th {\n",
              "        text-align: right;\n",
              "    }\n",
              "</style>\n",
              "<table border=\"1\" class=\"dataframe\">\n",
              "  <thead>\n",
              "    <tr style=\"text-align: right;\">\n",
              "      <th></th>\n",
              "      <th>Time</th>\n",
              "      <th>7TBSP</th>\n",
              "      <th>7TBCV</th>\n",
              "      <th>7TA</th>\n",
              "      <th>7TBPV</th>\n",
              "      <th>7P</th>\n",
              "      <th>7S</th>\n",
              "    </tr>\n",
              "  </thead>\n",
              "  <tbody>\n",
              "    <tr>\n",
              "      <th>0</th>\n",
              "      <td>1/1/2021 00:00:00.000</td>\n",
              "      <td>&lt;null&gt;</td>\n",
              "      <td>&lt;null&gt;</td>\n",
              "      <td>&lt;null&gt;</td>\n",
              "      <td>&lt;null&gt;</td>\n",
              "      <td>&lt;null&gt;</td>\n",
              "      <td>&lt;null&gt;</td>\n",
              "    </tr>\n",
              "    <tr>\n",
              "      <th>1</th>\n",
              "      <td>1/1/2021 01:19:13.150</td>\n",
              "      <td>19.13</td>\n",
              "      <td>&lt;null&gt;</td>\n",
              "      <td>20.49</td>\n",
              "      <td>19.13</td>\n",
              "      <td>&lt;null&gt;</td>\n",
              "      <td>&lt;null&gt;</td>\n",
              "    </tr>\n",
              "    <tr>\n",
              "      <th>2</th>\n",
              "      <td>1/1/2021 03:12:30.472</td>\n",
              "      <td>18.07</td>\n",
              "      <td>&lt;null&gt;</td>\n",
              "      <td>20.49</td>\n",
              "      <td>18.07</td>\n",
              "      <td>&lt;null&gt;</td>\n",
              "      <td>&lt;null&gt;</td>\n",
              "    </tr>\n",
              "  </tbody>\n",
              "</table>\n",
              "</div>"
            ],
            "text/plain": [
              "                    Time   7TBSP   7TBCV     7TA   7TBPV      7P      7S\n",
              "0  1/1/2021 00:00:00.000  <null>  <null>  <null>  <null>  <null>  <null>\n",
              "1  1/1/2021 01:19:13.150   19.13  <null>   20.49   19.13  <null>  <null>\n",
              "2  1/1/2021 03:12:30.472   18.07  <null>   20.49   18.07  <null>  <null>"
            ]
          },
          "execution_count": 30,
          "metadata": {},
          "output_type": "execute_result"
        }
      ],
      "source": [
        "measure_df[:3]"
      ]
    },
    {
      "cell_type": "markdown",
      "metadata": {},
      "source": [
        "- df의 자료 이름에 [:3]을 붙이면 3행의 앞까지 (0~2행)을 출력함"
      ]
    },
    {
      "cell_type": "code",
      "execution_count": 31,
      "metadata": {},
      "outputs": [
        {
          "name": "stdout",
          "output_type": "stream",
          "text": [
            "<class 'pandas.core.frame.DataFrame'>\n",
            "RangeIndex: 2100 entries, 0 to 2099\n",
            "Data columns (total 5 columns):\n",
            " #   Column     Non-Null Count  Dtype \n",
            "---  ------     --------------  ----- \n",
            " 0   Batch      2100 non-null   int64 \n",
            " 1   Process    2100 non-null   object\n",
            " 2   Equipment  2100 non-null   object\n",
            " 3   Start      2100 non-null   object\n",
            " 4   End        2100 non-null   object\n",
            "dtypes: int64(1), object(4)\n",
            "memory usage: 82.2+ KB\n"
          ]
        }
      ],
      "source": [
        "# 테이블 정보 확인\n",
        "process_df.info()"
      ]
    },
    {
      "cell_type": "markdown",
      "metadata": {},
      "source": [
        "\n",
        "- process_df에는 배치 번호 컬럼을 포함한 총 5개의 컬럼이 존재하고, 각 컬럼에 포함된 데이터는 2100개가 존재함"
      ]
    },
    {
      "cell_type": "code",
      "execution_count": 32,
      "metadata": {
        "id": "KAJcAsNjcyGc"
      },
      "outputs": [
        {
          "name": "stdout",
          "output_type": "stream",
          "text": [
            "<class 'pandas.core.frame.DataFrame'>\n",
            "RangeIndex: 15591 entries, 0 to 15590\n",
            "Data columns (total 7 columns):\n",
            " #   Column  Non-Null Count  Dtype \n",
            "---  ------  --------------  ----- \n",
            " 0   Time    15591 non-null  object\n",
            " 1   7TBSP   15591 non-null  object\n",
            " 2   7TBCV   15591 non-null  object\n",
            " 3   7TA     15591 non-null  object\n",
            " 4   7TBPV   15591 non-null  object\n",
            " 5   7P      15591 non-null  object\n",
            " 6   7S      15591 non-null  object\n",
            "dtypes: object(7)\n",
            "memory usage: 852.8+ KB\n"
          ]
        }
      ],
      "source": [
        "measure_df.info()"
      ]
    },
    {
      "cell_type": "markdown",
      "metadata": {},
      "source": [
        "\n",
        "- measure_df에는 시간 컬럼을 포함한 총 7개의 컬럼이 존재하고, 각 컬럼에 포함된 데이터는 n개가 존재함\n",
        "\n",
        "- 기본적으로 raw data를 처음 불러 왔을 때 정제 과정을 거친 상태가 아니라면 실제 머신 러닝 모델 구현 시 정확도를 떨어지게 하는 데이터들이 존재할 수 있음\n",
        "\n",
        "- 이를 실제로 사용하기 위해서는 데이터 전처리 (Data Preprocessing) 과정을 거칠 필요가 있음"
      ]
    },
    {
      "cell_type": "code",
      "execution_count": null,
      "metadata": {},
      "outputs": [],
      "source": [
        "# 문자형 숫자 데이터를 숫자형으로 전환하기 위한 함수\n",
        "def StringToInt(a):\n",
        "    if a != \"<null>\":\n",
        "        return float(a)\n",
        "\n",
        "# 온도 관련 데이터를 Celcius에서 Kelvin으로 전환하기 위한 함수\n",
        "def CelciusToKelvin(a):\n",
        "    return a+273.15\n",
        "\n",
        "# 일시 관련 데이터를 양식 통일하기 위한 함수\n",
        "from datetime import datetime\n",
        "def StringToDate(a):\n",
        "    if type(a) == str:\n",
        "        if \"/\" in a:\n",
        "            return datetime.strptime(a, \"%m/%d/%Y %H:%M:%S.%f\").strftime(\"%Y-%m-%d %H:%M:%S\")\n",
        "        else:\n",
        "            return datetime.strptime(a, \"%Y-%m-%d %H:%M\").strftime(\"%Y-%m-%d %H:%M:%S\")"
      ]
    },
    {
      "cell_type": "code",
      "execution_count": null,
      "metadata": {},
      "outputs": [],
      "source": [
        "# process_df 테이블 업데이트\n",
        "\n",
        "columns = process_df.columns\n",
        "\n",
        "for values in columns:\n",
        "    if "
      ]
    },
    {
      "cell_type": "code",
      "execution_count": 33,
      "metadata": {},
      "outputs": [
        {
          "data": {
            "text/html": [
              "<div>\n",
              "<style scoped>\n",
              "    .dataframe tbody tr th:only-of-type {\n",
              "        vertical-align: middle;\n",
              "    }\n",
              "\n",
              "    .dataframe tbody tr th {\n",
              "        vertical-align: top;\n",
              "    }\n",
              "\n",
              "    .dataframe thead th {\n",
              "        text-align: right;\n",
              "    }\n",
              "</style>\n",
              "<table border=\"1\" class=\"dataframe\">\n",
              "  <thead>\n",
              "    <tr style=\"text-align: right;\">\n",
              "      <th></th>\n",
              "      <th>Time</th>\n",
              "      <th>7TBSP</th>\n",
              "      <th>7TBCV</th>\n",
              "      <th>7TA</th>\n",
              "      <th>7TBPV</th>\n",
              "      <th>7P</th>\n",
              "      <th>7S</th>\n",
              "    </tr>\n",
              "  </thead>\n",
              "  <tbody>\n",
              "    <tr>\n",
              "      <th>0</th>\n",
              "      <td>2021-01-01 00:00:00</td>\n",
              "      <td>NaN</td>\n",
              "      <td>NaN</td>\n",
              "      <td>NaN</td>\n",
              "      <td>NaN</td>\n",
              "      <td>NaN</td>\n",
              "      <td>NaN</td>\n",
              "    </tr>\n",
              "    <tr>\n",
              "      <th>1</th>\n",
              "      <td>2021-01-01 01:19:13</td>\n",
              "      <td>292.28</td>\n",
              "      <td>NaN</td>\n",
              "      <td>293.64</td>\n",
              "      <td>292.28</td>\n",
              "      <td>NaN</td>\n",
              "      <td>NaN</td>\n",
              "    </tr>\n",
              "    <tr>\n",
              "      <th>2</th>\n",
              "      <td>2021-01-01 03:12:30</td>\n",
              "      <td>291.22</td>\n",
              "      <td>NaN</td>\n",
              "      <td>293.64</td>\n",
              "      <td>291.22</td>\n",
              "      <td>NaN</td>\n",
              "      <td>NaN</td>\n",
              "    </tr>\n",
              "    <tr>\n",
              "      <th>3</th>\n",
              "      <td>2021-01-01 03:12:34</td>\n",
              "      <td>291.22</td>\n",
              "      <td>NaN</td>\n",
              "      <td>289.02</td>\n",
              "      <td>291.22</td>\n",
              "      <td>NaN</td>\n",
              "      <td>NaN</td>\n",
              "    </tr>\n",
              "    <tr>\n",
              "      <th>4</th>\n",
              "      <td>2021-01-01 03:15:24</td>\n",
              "      <td>291.22</td>\n",
              "      <td>NaN</td>\n",
              "      <td>279.92</td>\n",
              "      <td>291.22</td>\n",
              "      <td>NaN</td>\n",
              "      <td>NaN</td>\n",
              "    </tr>\n",
              "    <tr>\n",
              "      <th>...</th>\n",
              "      <td>...</td>\n",
              "      <td>...</td>\n",
              "      <td>...</td>\n",
              "      <td>...</td>\n",
              "      <td>...</td>\n",
              "      <td>...</td>\n",
              "      <td>...</td>\n",
              "    </tr>\n",
              "    <tr>\n",
              "      <th>15586</th>\n",
              "      <td>2021-02-28 18:42:29</td>\n",
              "      <td>293.15</td>\n",
              "      <td>279.07</td>\n",
              "      <td>296.28</td>\n",
              "      <td>292.40</td>\n",
              "      <td>0.69</td>\n",
              "      <td>60.05</td>\n",
              "    </tr>\n",
              "    <tr>\n",
              "      <th>15587</th>\n",
              "      <td>2021-02-28 18:58:21</td>\n",
              "      <td>293.15</td>\n",
              "      <td>280.19</td>\n",
              "      <td>296.28</td>\n",
              "      <td>292.40</td>\n",
              "      <td>0.69</td>\n",
              "      <td>60.05</td>\n",
              "    </tr>\n",
              "    <tr>\n",
              "      <th>15588</th>\n",
              "      <td>2021-02-28 19:04:57</td>\n",
              "      <td>293.15</td>\n",
              "      <td>279.05</td>\n",
              "      <td>296.28</td>\n",
              "      <td>292.40</td>\n",
              "      <td>0.69</td>\n",
              "      <td>60.05</td>\n",
              "    </tr>\n",
              "    <tr>\n",
              "      <th>15589</th>\n",
              "      <td>2021-02-28 19:05:26</td>\n",
              "      <td>293.15</td>\n",
              "      <td>279.05</td>\n",
              "      <td>295.25</td>\n",
              "      <td>292.40</td>\n",
              "      <td>0.69</td>\n",
              "      <td>60.05</td>\n",
              "    </tr>\n",
              "    <tr>\n",
              "      <th>15590</th>\n",
              "      <td>2021-02-28 19:44:22</td>\n",
              "      <td>293.15</td>\n",
              "      <td>279.05</td>\n",
              "      <td>294.23</td>\n",
              "      <td>292.40</td>\n",
              "      <td>0.69</td>\n",
              "      <td>60.05</td>\n",
              "    </tr>\n",
              "  </tbody>\n",
              "</table>\n",
              "<p>15591 rows × 7 columns</p>\n",
              "</div>"
            ],
            "text/plain": [
              "                      Time   7TBSP   7TBCV     7TA   7TBPV    7P     7S\n",
              "0      2021-01-01 00:00:00     NaN     NaN     NaN     NaN   NaN    NaN\n",
              "1      2021-01-01 01:19:13  292.28     NaN  293.64  292.28   NaN    NaN\n",
              "2      2021-01-01 03:12:30  291.22     NaN  293.64  291.22   NaN    NaN\n",
              "3      2021-01-01 03:12:34  291.22     NaN  289.02  291.22   NaN    NaN\n",
              "4      2021-01-01 03:15:24  291.22     NaN  279.92  291.22   NaN    NaN\n",
              "...                    ...     ...     ...     ...     ...   ...    ...\n",
              "15586  2021-02-28 18:42:29  293.15  279.07  296.28  292.40  0.69  60.05\n",
              "15587  2021-02-28 18:58:21  293.15  280.19  296.28  292.40  0.69  60.05\n",
              "15588  2021-02-28 19:04:57  293.15  279.05  296.28  292.40  0.69  60.05\n",
              "15589  2021-02-28 19:05:26  293.15  279.05  295.25  292.40  0.69  60.05\n",
              "15590  2021-02-28 19:44:22  293.15  279.05  294.23  292.40  0.69  60.05\n",
              "\n",
              "[15591 rows x 7 columns]"
            ]
          },
          "execution_count": 33,
          "metadata": {},
          "output_type": "execute_result"
        }
      ],
      "source": [
        "# measure_df 테이블 업데이트\n",
        "\n",
        "columns = measure_df.columns\n",
        "\n",
        "for values in columns:\n",
        "    if \"Time\" in values:\n",
        "        measure_df[values] = measure_df[values].apply(StringToDate)\n",
        "        continue\n",
        "    measure_df[values] = measure_df[values].apply(StringToInt)\n",
        "    if \"T\" in values:\n",
        "        measure_df[values] = measure_df[values].apply(CelciusToKelvin)\n",
        "\n",
        "measure_df"
      ]
    },
    {
      "cell_type": "code",
      "execution_count": null,
      "metadata": {},
      "outputs": [],
      "source": []
    }
  ],
  "metadata": {
    "colab": {
      "authorship_tag": "ABX9TyM851UBBktw1wffWmkmiSe9",
      "include_colab_link": true,
      "name": "k_pda_gmp_w-s.ipynb",
      "provenance": []
    },
    "kernelspec": {
      "display_name": "Python 3",
      "name": "python3"
    },
    "language_info": {
      "codemirror_mode": {
        "name": "ipython",
        "version": 3
      },
      "file_extension": ".py",
      "mimetype": "text/x-python",
      "name": "python",
      "nbconvert_exporter": "python",
      "pygments_lexer": "ipython3",
      "version": "3.10.4"
    }
  },
  "nbformat": 4,
  "nbformat_minor": 0
}
