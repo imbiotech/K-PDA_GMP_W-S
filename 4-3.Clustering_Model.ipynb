{
  "cells": [
    {
      "cell_type": "markdown",
      "metadata": {
        "colab_type": "text",
        "id": "view-in-github"
      },
      "source": [
        "<a href=\"https://colab.research.google.com/github/imbiotech/skbtML/blob/main/4-3.Clustering_Model.ipynb\" target=\"_parent\"><img src=\"https://colab.research.google.com/assets/colab-badge.svg\" alt=\"Open In Colab\"/></a>"
      ]
    },
    {
      "cell_type": "markdown",
      "metadata": {
        "id": "DEAWLU3t26jE"
      },
      "source": [
        "### `4-3.Clustering Analysis`\n",
        "\n",
        "* k 개의 변수가 포함된 변수가 있을 때 각각의 변수 간 거리를 행렬로 나타내면 k X k 행렬이 생성됨(거리 행렬)\n",
        "\n",
        "* 데이터 거리: Data와 Data 사이의 거리\n",
        "    * 거리가 무엇인지 정확히 정의해야 함\n",
        "    * 예를 들어,\n",
        "        * 유클리드 거리(Euclidean distance): 수학적인 두 점 사이의 거리\n",
        "            <img src=\"\">\n",
        "        * 맨하튼 거리(Manhattan distance, 택시 거리, L1 거리, 시가지 거리, Taxicab geometry)): 두 점 사이의 절댓값 차이에 따른 새로운 거리\n",
        "            <img src=\"\">\n",
        "        * 민코프스키 거리(Minkowski distance): 민코프스키 거리는 일반 상대성 이론에서 사용되는 거리 개념으로, 민코프스키 공간에서 두 지점 사이의 거리\n",
        "\n",
        "* 군집 분석의 세 종류\n",
        "\n",
        "    * Dendrogram: 거리 행렬을 통해 데이터 포인트를 모두 계산, 계층형 군집 분석\n",
        "        \n",
        "        다음과 같은 항목을 확인할 수 있음\n",
        "        * 어느 데이터간 거리가 가까운지\n",
        "        * 군집이 어떤 식으로 형성되는지\n",
        "        * 몇 개의 군집이 있는지\n",
        "        <img src=\"\">\n",
        "\n",
        "        다음과 같은 특징이 있음\n",
        "        * 많은 메모리가 필요함\n",
        "        * 대체적으로 큰 규모의 데이터에서는 사용이 어려움\n",
        "        * 전반적인 군집의 패턴 확인에 용이하여 사전 분석 용도로 적합함\n",
        "\n",
        "    * k-means(k개의 평균): 데이터 간의 평균 벡터 이용, 평균 계산을 사용하여 군집 계산, 비계층형 군집 분석\n",
        "        \n",
        "        다음과 같은 방식으로 진행함\n",
        "        1. 임의의 k개 점을 Cluster Centor로 가정(k는 유저가 적절히 선택, 단, 시각화나 EDA를 통해 효율적인 k를 설정할 수는 있음)\n",
        "        2. 해당 점과 나머지 데이터 간의 거리를 구하고 거리에 따라서 가장 가까운 Cluster Centor의 Cluster에 포함(총 k개의 Cluster)\n",
        "        3. 각 Cluster 내의 평균 벡터(Cluster Centor)를 다시 구함\n",
        "        4. 2~3을 반복\n",
        "        5. 기존 Cluster Centor와 새로운 Cluster Centor의 변화가 없을 때 Clustering이 완료됨\n",
        "        \n",
        "        다음과 같은 특징이 있음\n",
        "        * 원 형태의 군집 데이터에 최적화 되어 있어 길쭉한 형태의 군집은 잘 잡아내지 못함\n",
        "        * 이해와 구현이 쉬워 오랫동안 사용되고 있는 알고리즘 방식\n",
        "\n",
        "    * DBSCAN(Density-based): 밀도가 높은 부분을 군집으로 평가, 밀도가 높을수록 군집 형성, 비계층형 군집 분석\n",
        "        \n",
        "        다음과 같은 특징이 있음\n",
        "        * 길쭉한 형태의 군집도 잘 잡아냄\n",
        "        * 노이즈(어느 군집에도 속하지 못한 데이터)를 자동으로 잡아낼 수 있음\n",
        "\n",
        "* 양 Cluster 간 거리 계산법\n",
        "    * 최단 연결법(Single Linkage): 두 Cluster 내 데이터 간 거리 중 최소값\n",
        "    * 최장 연결법(Complete Linkage): 두 Cluster 내 데이터 간 거리 중 최대값\n",
        "    * 평균 연결법(Average Linkage): 두 Cluster 내 모든 데이터 간 거리의 평균값\n",
        "    * 중심 연결법(Centroid Linkage): 각 Cluster의 중심(평균) 간 거리\n",
        "    * 워드 연결법(Ward Linkage): 두 Cluster의 오차제곱합 중 작은 쪽과 두 Cluster를 하나로 합쳤을 때 오차제곱합의 차를 거리로 설정\n",
        "\n",
        "* 군집 분석은 Target이 없는 Data Set을 통해 훈련하는 것으로 데이터 내에서 패턴을 찾는 비감독학습(비지도학습)임"
      ]
    },
    {
      "cell_type": "markdown",
      "metadata": {
        "id": "O8lvXSAG26jG"
      },
      "source": [
        "---\n",
        "#### 코드블럭1\n",
        "**_Clustering - k-means analysis 예시 코드 1 시작_**\n",
        "\n",
        "붓꽃(Iris) 데이터에 대한 Clustering Model"
      ]
    },
    {
      "cell_type": "code",
      "execution_count": null,
      "metadata": {
        "id": "MqessnCl26jH"
      },
      "outputs": [],
      "source": [
        "import matplotlib.pyplot as plt\n",
        "from sklearn import datasets, cluster\n",
        "\n",
        "# iris 데이터 불러오기\n",
        "iris = datasets.load_iris()\n",
        "data = iris[\"data\"]\n",
        "\n",
        "# K-Means Clustering 모델 생성 및 훈련\n",
        "model = cluster.KMeans(n_clusters=4) # cluster의 개수는 미리 정해야 함, 주관적으로 정함\n",
        "model.fit(data) # Clustering Model은 지도 학습이 아니므로 훈련 데이터만 사용\n",
        "\n",
        "# 훈련 결과 확인\n",
        "print(model.labels_) # 각 데이터의 군집 번호 출력\n",
        "\n",
        "# 군집별로 데이터를 분류하여 저장, 시각화하였을 때 군집이 잘 형성되었는지 확인, 군집이 잘 형성되었다면 군집별로 색상이 구분되어야 함\n",
        "# 군집이 잘 형성되지 않았다면 색상이 구분되지 않거나 군집이 겹쳐져 있음, 군집이 잘 형성되지 않았다면 군집의 개수를 늘려서 다시 훈련\n",
        "cluster1 = data[model.labels_ == 0] # 군집 1, 빨간색\n",
        "plt.scatter(cluster1[:,2], cluster1[:,3], c=\"red\", label=\"cluster1\")\n",
        "\n",
        "cluster2 = data[model.labels_ == 1] # 군집 2, 파란색\n",
        "plt.scatter(cluster2[:,2], cluster2[:,3], c=\"blue\", label=\"cluster2\")\n",
        "\n",
        "cluster3 = data[model.labels_ == 2] # 군집 3, 초록색\n",
        "plt.scatter(cluster3[:,2], cluster3[:,3], c=\"green\", label=\"cluster3\")\n",
        "\n",
        "cluster4 = data[model.labels_ == 3] # 군집 4, 노란색\n",
        "plt.scatter(cluster4[:,2], cluster4[:,3], c=\"yellow\", label=\"cluster4\")\n",
        "\n",
        "# 축 라벨 설정\n",
        "plt.xlabel(iris[\"feature_names\"][2])\n",
        "plt.ylabel(iris[\"feature_names\"][3])\n",
        "plt.legend()\n",
        "plt.show()"
      ]
    },
    {
      "cell_type": "code",
      "execution_count": null,
      "metadata": {
        "id": "KbZYx3yN26jH"
      },
      "outputs": [],
      "source": [
        "# 모델이 예측한 각 데이터의 군집 번호와 실제 군집 번호를 비교하여 정확도 측정\n",
        "model.labels_  # 모델이 예측한 각 데이터의 군집 번호\n",
        "iris[\"target\"] # 실제 군집 번호\n",
        "\n",
        "# 모델이 예측한 군집 번호와 실제 군집 번호를 비교하여 정확도 측정\n",
        "sum(model.labels_ == iris[\"target\"]) / len(iris[\"target\"])"
      ]
    },
    {
      "cell_type": "markdown",
      "metadata": {
        "id": "J9LbIMKD26jI"
      },
      "source": [
        "**_Clustering - k-means analysis 예시 코드 1 종료_**\n",
        "\n",
        "---"
      ]
    },
    {
      "cell_type": "markdown",
      "metadata": {
        "id": "C-OU18vj26jI"
      },
      "source": [
        "---\n",
        "#### 코드블럭2\n",
        "**_Clustering - k-means analysis 예시 코드 2 시작_**\n",
        "\n",
        "붓꽃(Iris) 데이터에 대한 Clustering Model, Dendrogram 계층 분석"
      ]
    },
    {
      "cell_type": "code",
      "execution_count": null,
      "metadata": {
        "id": "WYmiXV-d26jI"
      },
      "outputs": [],
      "source": [
        "import matplotlib.pyplot as plt\n",
        "from sklearn import datasets, cluster\n",
        "\n",
        "# iris 데이터 불러오기\n",
        "iris = datasets.load_iris()\n",
        "data = iris[\"data\"]\n",
        "\n",
        "# 계층형 Clustering 모델 생성 및 훈련\n",
        "model = cluster.AgglomerativeClustering(n_clusters=4, linkage=\"ward\") # cluster의 개수는 미리 정해야 함, 주관적으로 정함\n",
        "model.fit(data) # Clustering Model은 지도 학습이 아니므로 훈련 데이터만 사용\n",
        "\n",
        "# 데이터 정의\n",
        "x_index = 2 # X축에 사용할 feature의 index\n",
        "y_index = 3 # Y축에 사용할 feature의 index\n",
        "\n",
        "data_x = data[:,x_index] # X축에 사용할 feature\n",
        "data_y = data[:,y_index] # Y축에 사용할 feature\n",
        "\n",
        "x_label = iris[\"feature_names\"][x_index] # X축에 사용할 feature의 이름\n",
        "y_label = iris[\"feature_names\"][y_index] # Y축에 사용할 feature의 이름\n",
        "\n",
        "# 군집별로 데이터를 분류하여 저장, 시각화하였을 때 군집이 잘 형성되었는지 확인, 군집이 잘 형성되었다면 군집별로 색상이 구분되어야 함\n",
        "# 군집이 잘 형성되지 않았다면 색상이 구분되지 않거나 군집이 겹쳐져 있음, 군집이 잘 형성되지 않았다면 군집의 개수를 늘려서 다시 훈련\n",
        "cluster1 = data[model.labels_ == 0] # 군집 1, 빨간색\n",
        "plt.scatter(cluster1[:,x_index], cluster1[:,y_index], c=\"red\", label=\"cluster1\")\n",
        "\n",
        "cluster2 = data[model.labels_ == 1] # 군집 2, 파란색\n",
        "plt.scatter(cluster2[:,x_index], cluster2[:,y_index], c=\"blue\", label=\"cluster2\")\n",
        "\n",
        "cluster3 = data[model.labels_ == 2] # 군집 3, 초록색\n",
        "plt.scatter(cluster3[:,x_index], cluster3[:,y_index], c=\"green\", label=\"cluster3\")\n",
        "\n",
        "cluster4 = data[model.labels_ == 3] # 군집 4, 노란색\n",
        "plt.scatter(cluster4[:,x_index], cluster4[:,y_index], c=\"yellow\", label=\"cluster4\")\n",
        "\n",
        "# 축 라벨 설정\n",
        "plt.xlabel(x_label)\n",
        "plt.ylabel(y_label)\n",
        "plt.legend()\n",
        "plt.show()"
      ]
    },
    {
      "cell_type": "code",
      "execution_count": null,
      "metadata": {
        "id": "fX-3ZuHA26jI"
      },
      "outputs": [],
      "source": [
        "from scipy.cluster.hierarchy import dendrogram, linkage\n",
        "\n",
        "# linkage 함수를 사용하여 계층형 군집화 수행\n",
        "Z = linkage(data, \"ward\") # ward 방식을 사용하여 linkage 수행\n",
        "\n",
        "# dendrogram 그리기\n",
        "plt.figure(figsize=(25, 10))\n",
        "plt.title(\"Hierarchical Clustering Dendrogram\")\n",
        "plt.xlabel(\"iris\")\n",
        "plt.ylabel(\"distance\")\n",
        "dendrogram(Z, leaf_rotation=90., leaf_font_size=8.)\n",
        "plt.show()"
      ]
    },
    {
      "cell_type": "markdown",
      "metadata": {
        "id": "nQL4CLXa26jJ"
      },
      "source": [
        "**_Clustering - k-means analysis 예시 코드 2 종료_**\n",
        "\n",
        "---"
      ]
    },
    {
      "cell_type": "markdown",
      "metadata": {
        "id": "eCHzpT8m26jJ"
      },
      "source": [
        "---\n",
        "#### 코드블럭3\n",
        "**_Clustering - k-means analysis 예시 코드 3 시작_**\n",
        "\n",
        "학생 별 성적 데이터에 대한 Clustering Model, Dendrogram 계층 분석"
      ]
    },
    {
      "cell_type": "code",
      "execution_count": null,
      "metadata": {
        "id": "4tfzvsvJ26jJ"
      },
      "outputs": [],
      "source": [
        "import pandas as pd\n",
        "import matplotlib.pyplot as plt\n",
        "import numpy as np\n",
        "from sklearn import cluster\n",
        "\n",
        "# \"academy.csv\"에서 데이터 프레임 생성 및 No. 열 삭제, 최초 5개 데이터 출력\n",
        "academy = pd.read_csv(\"https://raw.githubusercontent.com/imbiotech/skbtML/main/CSVData/4-3-1.academy.csv\")\n",
        "academy.drop(\"No.\", axis=1, inplace=True)\n",
        "print(academy.head())\n",
        "\n",
        "\n",
        "# 데이터 프레임을 array로 변환\n",
        "academy_array = np.array(academy)\n",
        "print(academy_array)"
      ]
    },
    {
      "cell_type": "code",
      "execution_count": null,
      "metadata": {
        "id": "peoJIUk626jJ"
      },
      "outputs": [],
      "source": [
        "#k-means 모델 생성 및 훈련\n",
        "model = cluster.KMeans(n_clusters=5)\n",
        "model.fit(academy_array)\n",
        "\n",
        "# 훈련 결과 확인\n",
        "labels = model.labels_\n",
        "labels"
      ]
    },
    {
      "cell_type": "code",
      "execution_count": null,
      "metadata": {
        "id": "IKacqUYU26jJ"
      },
      "outputs": [],
      "source": [
        "# 그래프 그리기\n",
        "ldata = academy_array[labels == 0] # 군집 1\n",
        "plt.scatter(ldata[:,2], ldata[:,3], c=\"red\", label=\"cluster1\")\n",
        "\n",
        "ldata = academy_array[labels == 1] # 군집 2\n",
        "plt.scatter(ldata[:,2], ldata[:,3], c=\"blue\", label=\"cluster2\")\n",
        "\n",
        "ldata = academy_array[labels == 2] # 군집 3\n",
        "plt.scatter(ldata[:,2], ldata[:,3], c=\"green\", label=\"cluster3\")\n",
        "\n",
        "ldata = academy_array[labels == 3] # 군집 4\n",
        "plt.scatter(ldata[:,2], ldata[:,3], c=\"yellow\", label=\"cluster4\")\n",
        "\n",
        "ldata = academy_array[labels == 4] # 군집 5\n",
        "plt.scatter(ldata[:,2], ldata[:,3], c=\"purple\", label=\"cluster5\")\n",
        "\n",
        "plt.legend() # 범례 표시\n",
        "plt.xlabel(academy.columns[2]) # X축 라벨 표시\n",
        "plt.ylabel(academy.columns[3]) # Y축 라벨 표시\n",
        "plt.show()"
      ]
    },
    {
      "cell_type": "code",
      "execution_count": null,
      "metadata": {
        "id": "jVG2ps7f26jK"
      },
      "outputs": [],
      "source": [
        "# dendrogram 그리기\n",
        "from scipy.cluster.hierarchy import dendrogram, linkage\n",
        "\n",
        "Z = linkage(academy_array, \"ward\") # ward 방식을 사용하여 linkage 수행\n",
        "\n",
        "plt.figure(figsize=(25, 10))\n",
        "plt.title(\"Hierarchical Clustering Dendrogram\")\n",
        "plt.xlabel(\"academy\")\n",
        "plt.ylabel(\"distance\")\n",
        "dendrogram(Z, leaf_rotation=90., leaf_font_size=8.)\n",
        "plt.show()"
      ]
    },
    {
      "cell_type": "markdown",
      "metadata": {
        "id": "jVHYItVT26jK"
      },
      "source": [
        "**_Clustering - k-means analysis 예시 코드 3 종료_**\n",
        "\n",
        "---"
      ]
    },
    {
      "cell_type": "markdown",
      "metadata": {
        "id": "MCbY_ivR26jK"
      },
      "source": [
        "---\n",
        "#### 코드블럭4\n",
        "**_Clustering - k-means analysis 예시 코드 4 시작_**\n",
        "\n",
        "임의의 데이터(xclara)에 대한 Clustering Model"
      ]
    },
    {
      "cell_type": "code",
      "execution_count": null,
      "metadata": {
        "id": "ZOzuZkvW26jK"
      },
      "outputs": [],
      "source": [
        "import numpy as np\n",
        "import pandas as pd\n",
        "from matplotlib import pyplot as plt\n",
        "\n",
        "# 데이터 불러오기\n",
        "plt.rcParams['figure.figsize'] = (16, 9) # 그래프의 크기 설정\n",
        "plt.style.use('ggplot') # 그래프의 스타일 설정, ggplot은 R에서 사용하는 그래프 스타일\n",
        "\n",
        "data = pd.read_csv('https://raw.githubusercontent.com/imbiotech/skbtML/main/CSVData/4-3-2.xclara.csv') # 데이터 불러오기\n",
        "data.head() # 데이터 확인"
      ]
    },
    {
      "cell_type": "code",
      "execution_count": null,
      "metadata": {
        "id": "lRPk9UUM26jK"
      },
      "outputs": [],
      "source": [
        "f1 = data['V1'].values # V1 열의 데이터를 f1에 저장\n",
        "f2 = data['V2'].values # V2 열의 데이터를 f2에 저장\n",
        "\n",
        "x = np.array(list(zip(f1, f2))) # f1과 f2를 하나의 리스트로 묶어 x에 저장\n",
        "plt.scatter(f1, f2, c='black', s=7) # f1과 f2를 산점도로 표시"
      ]
    },
    {
      "cell_type": "code",
      "execution_count": null,
      "metadata": {
        "id": "hcfNt3AA26jK"
      },
      "outputs": [],
      "source": [
        "# 3개의 군집으로 구성하는 것이 적절해 보임\n",
        "from sklearn.cluster import KMeans\n",
        "\n",
        "kmeans = KMeans(n_clusters=3) # K-Means 모델 생성\n",
        "kmeans = kmeans.fit(x) # 모델 훈련\n",
        "labels = kmeans.predict(x) # 예측 결과를 labels에 저장\n",
        "\n",
        "# 군집별로 데이터를 분류하여 저장, 시각화하였을 때 군집이 잘 형성되었는지 확인, 군집이 잘 형성되었다면 군집별로 색상이 구분되어야 함\n",
        "# 군집이 잘 형성되지 않았다면 색상이 구분되지 않거나 군집이 겹쳐져 있음, 군집이 잘 형성되지 않았다면 군집의 개수를 늘려서 다시 훈련\n",
        "ldata = x[labels == 0] # 군집 1, 빨간색\n",
        "plt.scatter(ldata[:,0], ldata[:,1], c=\"red\", label=\"cluster1\", s=4) # ldata[:,0]은 x좌표, ldata[:,1]은 y좌표, s는 점의 크기, label은 범례에 표시될 이름, c는 색상\n",
        "\n",
        "ldata = x[labels == 1] # 군집 2, 파란색\n",
        "plt.scatter(ldata[:,0], ldata[:,1], c=\"blue\", label=\"cluster2\", s=4)\n",
        "\n",
        "ldata = x[labels == 2] # 군집 3, 초록색\n",
        "plt.scatter(ldata[:,0], ldata[:,1], c=\"green\", label=\"cluster3\", s=4)\n",
        "\n",
        "# 군집의 중심점을 표시\n",
        "centers = kmeans.cluster_centers_ # 군집의 중심점을 centers에 저장\n",
        "plt.scatter(centers[:,0], centers[:,1], c='black', s=200, alpha=0.5) # 군집의 중심점을 산점도로 표시\n",
        "\n",
        "plt.legend() # 범례 표시\n",
        "plt.xlabel('V1') # X축 라벨 표시\n",
        "plt.ylabel('V2') # Y축 라벨 표시\n",
        "plt.show()\n"
      ]
    },
    {
      "cell_type": "markdown",
      "metadata": {
        "id": "S7CeUB2I26jK"
      },
      "source": [
        "**_Clustering - k-means analysis 예시 코드 4 종료_**\n",
        "\n",
        "---"
      ]
    }
  ],
  "metadata": {
    "colab": {
      "include_colab_link": true,
      "provenance": []
    },
    "kernelspec": {
      "display_name": "Python 3",
      "language": "python",
      "name": "python3"
    },
    "language_info": {
      "codemirror_mode": {
        "name": "ipython",
        "version": 3
      },
      "file_extension": ".py",
      "mimetype": "text/x-python",
      "name": "python",
      "nbconvert_exporter": "python",
      "pygments_lexer": "ipython3",
      "version": "3.10.4"
    }
  },
  "nbformat": 4,
  "nbformat_minor": 0
}
