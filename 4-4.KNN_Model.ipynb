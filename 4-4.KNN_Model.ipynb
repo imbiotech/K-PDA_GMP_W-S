{
  "cells": [
    {
      "cell_type": "markdown",
      "metadata": {
        "id": "view-in-github",
        "colab_type": "text"
      },
      "source": [
        "<a href=\"https://colab.research.google.com/github/imbiotech/skbtML/blob/main/4-4.KNN_Model.ipynb\" target=\"_parent\"><img src=\"https://colab.research.google.com/assets/colab-badge.svg\" alt=\"Open In Colab\"/></a>"
      ]
    },
    {
      "cell_type": "markdown",
      "metadata": {
        "id": "BlBbF9KT2cx3"
      },
      "source": [
        "### `4-4.KNN(K-Nearest Neighbor)`\n",
        "\n",
        "* 가장 가까운 K개의 이웃의 대표 속성값을 통해 데이터를 예측하는 알고리즘\n",
        "\n",
        "* KNN의 장점\n",
        "    * 간단한 구조\n",
        "    * 이해가 쉬움\n",
        "    * 구현이 쉬움\n",
        "    * 강력한 결과 (노력 대비 좋은 성능)\n",
        "    * 데이터 수가 적어도 Model을 생성할 수 있음\n",
        "\n",
        "* KNN의 특징\n",
        "    * 가장 많은 자료 수가 존재하는 클래스/속성을 예측값으로 설정\n",
        "    * 여러 개의 K값으로 테스트를 해본 후 가장 좋은 방법으로 나눔\n",
        "        * K값에 따라서 분류 결과가 달라지고 정확도와 신뢰도까지 영향을 받음\n",
        "    * 모든 계산이 이뤄진 후에 분류를 수행하므로 사례 기반 학습 또는 메모리 기반 학습으로 부름\n",
        "    * 훈련 데이터에 Target이 존재하는 지도 학습 알고리즘\n",
        "    * 각 속성에 맞춰 레벨을 분류하는 방식으로 예측 진행\n",
        "    * KNN의 적용 분야\n",
        "        * 분류에 해당하는 대부분의 업무 분야에 적용 가능\n",
        "        * 얼굴 인식이나 글자 인식 등 이미지 인식\n",
        "        * 적절한 상품 추천\n",
        "        <br/>등\n",
        "\n",
        "* KNN의 적용법\n",
        "    1. 예측 대상을 기점으로 K개의 이웃이 포함된 대표 집단을 만듦\n",
        "    2. 대표 집단 내에서 클래스 또는 속성을 설정하고 집단 내에서 우세한 레벨을 찾음\n",
        "    3. 예측 대상이 우세한 레벨과 동일한 레벨이라고 가정하여 예측 진행\n",
        "        1) 단순 KNN은 집단 내의 거리가 무시될 수 있음\n",
        "        2) 거리를 고려한 weighted KNN을 사용하기도 함\n",
        "        <br/> \"거리의 역수\"나 \"거리의 역수의 제곱의 역수\"를 가중치로 두어 정확도가 높아짐\n",
        "    \n",
        "\n",
        "* 용도에 따라 다음과 같은 python 함수를 사용\n",
        "    * KNeighborsClassifier(): 분류 알고리즘\n",
        "    * KNeighborsRegressor(): 연속 데이터 예측 알고리즘"
      ]
    },
    {
      "cell_type": "markdown",
      "metadata": {
        "id": "T_7smBbP2cx6"
      },
      "source": [
        "---\n",
        "#### 코드블럭1\n",
        "**KNN 예시 코드 1 시작**\n",
        "\n",
        "이상형 데이터에 대한 KNN Model"
      ]
    },
    {
      "cell_type": "code",
      "execution_count": null,
      "metadata": {
        "id": "GBOuTu_x2cx6"
      },
      "outputs": [],
      "source": [
        "import pandas as pd\n",
        "import matplotlib.pyplot as plt\n",
        "import numpy as np\n",
        "\n",
        "# \"ideal_type.csv\"에서 데이터 프레임 생성\n",
        "ideal_type = pd.read_csv(\"https://raw.githubusercontent.com/imbiotech/skbtML/main/4-4-1.ideal_type.csv\")\n",
        "ideal_type.head()\n"
      ]
    },
    {
      "cell_type": "code",
      "execution_count": null,
      "metadata": {
        "id": "2mRcrobe2cx7"
      },
      "outputs": [],
      "source": [
        "# 데이터와 결과를 분리\n",
        "ideal_type_data = ideal_type.drop(\"attraction_label\", axis=1)\n",
        "ideal_type_target = ideal_type[\"attraction_label\"]\n",
        "\n",
        "# 데이터와 결과를 array로 변환\n",
        "ideal_type_data_array = np.array(ideal_type_data)\n",
        "ideal_type_target_array = np.array(ideal_type_target)\n",
        "\n",
        "ideal_type_data_array, ideal_type_target_array"
      ]
    },
    {
      "cell_type": "code",
      "execution_count": null,
      "metadata": {
        "id": "zbsDoBJz2cx7"
      },
      "outputs": [],
      "source": [
        "# 데이터 정규화를 위해 StandardScaler 함수 불러오고 StandardScaler 생성\n",
        "from sklearn.preprocessing import StandardScaler\n",
        "scaler = StandardScaler()\n",
        "\n",
        "# fit_transform 함수를 사용하여 데이터를 표준화\n",
        "ideal_type_data_array = scaler.fit_transform(ideal_type_data_array)\n",
        "ideal_type_data_array"
      ]
    },
    {
      "cell_type": "code",
      "execution_count": null,
      "metadata": {
        "id": "kcvfckIa2cx7"
      },
      "outputs": [],
      "source": [
        "# KNN 분류 모델 생성 및 훈련\n",
        "from sklearn.neighbors import KNeighborsClassifier\n",
        "model = KNeighborsClassifier(n_neighbors=5) # KNN 분류 모델 생성, 이웃의 수는 5으로 설정\n",
        "model.fit(ideal_type_data_array, ideal_type_target_array) # 모델 훈련\n",
        "\n",
        "# 예측 결과 확인\n",
        "ideal_type_pred = model.predict(ideal_type_data_array)\n",
        "print(ideal_type_pred) # 모델이 예측한 결과\n",
        "\n",
        "# confusion_matrix 함수를 사용하여 오차 행렬 출력\n",
        "from sklearn.metrics import confusion_matrix, classification_report\n",
        "print(confusion_matrix(ideal_type_target_array, model.predict(ideal_type_data_array))) # 오차 행렬(혼돈 행렬) 출력, 혼돈 행렬의 숫자는 데이터가 대각선일수록 좋음\n",
        "print(classification_report(ideal_type_target_array, ideal_type_pred)) # 정밀도, 재현율, F1 점수 출력"
      ]
    }
  ],
  "metadata": {
    "kernelspec": {
      "display_name": "Python 3",
      "language": "python",
      "name": "python3"
    },
    "language_info": {
      "codemirror_mode": {
        "name": "ipython",
        "version": 3
      },
      "file_extension": ".py",
      "mimetype": "text/x-python",
      "name": "python",
      "nbconvert_exporter": "python",
      "pygments_lexer": "ipython3",
      "version": "3.10.4"
    },
    "colab": {
      "provenance": [],
      "include_colab_link": true
    }
  },
  "nbformat": 4,
  "nbformat_minor": 0
}