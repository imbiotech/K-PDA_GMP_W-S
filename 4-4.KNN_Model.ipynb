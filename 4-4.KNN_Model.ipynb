{
  "cells": [
    {
      "cell_type": "markdown",
      "metadata": {
        "colab_type": "text",
        "id": "view-in-github"
      },
      "source": [
        "<a href=\"https://colab.research.google.com/github/imbiotech/skbtML/blob/main/4-4.KNN_Model.ipynb\" target=\"_parent\"><img src=\"https://colab.research.google.com/assets/colab-badge.svg\" alt=\"Open In Colab\"/></a>"
      ]
    },
    {
      "cell_type": "markdown",
      "metadata": {
        "id": "BlBbF9KT2cx3"
      },
      "source": [
        "### `4-4.KNN(K-Nearest Neighbor)`\n",
        "\n",
        "* 가장 가까운 K개의 이웃의 대표 속성값을 통해 데이터를 예측하는 알고리즘\n",
        "\n",
        "* KNN의 장점\n",
        "    * 간단한 구조\n",
        "    * 이해가 쉬움\n",
        "    * 구현이 쉬움\n",
        "    * 강력한 결과 (노력 대비 좋은 성능)\n",
        "    * 데이터 수가 적어도 Model을 생성할 수 있음\n",
        "\n",
        "* KNN의 특징\n",
        "    * 가장 많은 자료 수가 존재하는 클래스/속성을 예측값으로 설정\n",
        "    * 여러 개의 K값으로 테스트를 해본 후 가장 좋은 방법으로 나눔\n",
        "        * K값에 따라서 분류 결과가 달라지고 정확도와 신뢰도까지 영향을 받음\n",
        "    * 모든 계산이 이뤄진 후에 분류를 수행하므로 사례 기반 학습 또는 메모리 기반 학습으로 부름\n",
        "    * 훈련 데이터에 Target이 존재하는 지도 학습 알고리즘\n",
        "    * 각 속성에 맞춰 레벨을 분류하는 방식으로 예측 진행\n",
        "    * KNN의 적용 분야\n",
        "        * 분류에 해당하는 대부분의 업무 분야에 적용 가능\n",
        "        * 얼굴 인식이나 글자 인식 등 이미지 인식\n",
        "        * 적절한 상품 추천\n",
        "        <br/>등\n",
        "\n",
        "* KNN의 적용법\n",
        "    1. 예측 대상을 기점으로 K개의 이웃이 포함된 대표 집단을 만듦\n",
        "    2. 대표 집단 내에서 클래스 또는 속성을 설정하고 집단 내에서 우세한 레벨을 찾음\n",
        "    3. 예측 대상이 우세한 레벨과 동일한 레벨이라고 가정하여 예측 진행\n",
        "        1) 단순 KNN은 집단 내의 거리가 무시될 수 있음\n",
        "        2) 거리를 고려한 weighted KNN을 사용하기도 함\n",
        "        <br/> \"거리의 역수\"나 \"거리의 역수의 제곱의 역수\"를 가중치로 두어 정확도가 높아짐\n",
        "    \n",
        "\n",
        "* 용도에 따라 다음과 같은 python 함수를 사용\n",
        "    * KNeighborsClassifier(): 분류 알고리즘\n",
        "    * KNeighborsRegressor(): 연속 데이터 예측 알고리즘"
      ]
    },
    {
      "cell_type": "markdown",
      "metadata": {
        "id": "T_7smBbP2cx6"
      },
      "source": [
        "---\n",
        "#### 코드블럭1\n",
        "**_KNN 예시 코드 1 시작_**\n",
        "\n",
        "이상형 데이터에 대한 KNN Model"
      ]
    },
    {
      "cell_type": "code",
      "execution_count": null,
      "metadata": {
        "id": "GBOuTu_x2cx6"
      },
      "outputs": [],
      "source": [
        "import pandas as pd\n",
        "import matplotlib.pyplot as plt\n",
        "import numpy as np\n",
        "\n",
        "# \"ideal_type.csv\"에서 데이터 프레임 생성 및 상위 5 개 데이터 확인\n",
        "ideal_type = pd.read_csv(\"https://raw.githubusercontent.com/imbiotech/skbtML/main/4-4-1.ideal_type.csv\")\n",
        "ideal_type.head()"
      ]
    },
    {
      "cell_type": "code",
      "execution_count": null,
      "metadata": {
        "id": "2mRcrobe2cx7"
      },
      "outputs": [],
      "source": [
        "# 데이터와 결과를 분리\n",
        "ideal_type_data = ideal_type.drop(\"attraction_label\", axis=1)\n",
        "ideal_type_target = ideal_type[\"attraction_label\"]\n",
        "\n",
        "# 데이터와 결과를 array로 변환\n",
        "ideal_type_data_array = np.array(ideal_type_data)\n",
        "ideal_type_target_array = np.array(ideal_type_target)\n",
        "\n",
        "ideal_type_data_array, ideal_type_target_array"
      ]
    },
    {
      "cell_type": "code",
      "execution_count": null,
      "metadata": {
        "id": "zbsDoBJz2cx7"
      },
      "outputs": [],
      "source": [
        "# 데이터 정규화를 위해 StandardScaler 함수 불러오고 StandardScaler 생성\n",
        "from sklearn.preprocessing import StandardScaler\n",
        "scaler = StandardScaler()\n",
        "\n",
        "# fit_transform 함수를 사용하여 데이터를 표준화\n",
        "ideal_type_data_array = scaler.fit_transform(ideal_type_data_array)\n",
        "ideal_type_data_array"
      ]
    },
    {
      "cell_type": "code",
      "execution_count": 1,
      "metadata": {
        "id": "kcvfckIa2cx7"
      },
      "outputs": [
        {
          "ename": "NameError",
          "evalue": "name 'ideal_type_data_array' is not defined",
          "output_type": "error",
          "traceback": [
            "\u001b[1;31m---------------------------------------------------------------------------\u001b[0m",
            "\u001b[1;31mNameError\u001b[0m                                 Traceback (most recent call last)",
            "\u001b[1;32mc:\\Users\\Public\\Downloads\\Git\\K-PDA_GMP_W-S\\4-4.KNN_Model.ipynb Cell 8\u001b[0m line \u001b[0;36m4\n\u001b[0;32m      <a href='vscode-notebook-cell:/c%3A/Users/Public/Downloads/Git/K-PDA_GMP_W-S/4-4.KNN_Model.ipynb#W6sZmlsZQ%3D%3D?line=1'>2</a>\u001b[0m \u001b[39mfrom\u001b[39;00m \u001b[39msklearn\u001b[39;00m\u001b[39m.\u001b[39;00m\u001b[39mneighbors\u001b[39;00m \u001b[39mimport\u001b[39;00m KNeighborsClassifier\n\u001b[0;32m      <a href='vscode-notebook-cell:/c%3A/Users/Public/Downloads/Git/K-PDA_GMP_W-S/4-4.KNN_Model.ipynb#W6sZmlsZQ%3D%3D?line=2'>3</a>\u001b[0m model \u001b[39m=\u001b[39m KNeighborsClassifier(n_neighbors\u001b[39m=\u001b[39m\u001b[39m5\u001b[39m) \u001b[39m# KNN 분류 모델 생성, 이웃의 수는 5으로 설정\u001b[39;00m\n\u001b[1;32m----> <a href='vscode-notebook-cell:/c%3A/Users/Public/Downloads/Git/K-PDA_GMP_W-S/4-4.KNN_Model.ipynb#W6sZmlsZQ%3D%3D?line=3'>4</a>\u001b[0m model\u001b[39m.\u001b[39mfit(ideal_type_data_array, ideal_type_target_array) \u001b[39m# 모델 훈련\u001b[39;00m\n\u001b[0;32m      <a href='vscode-notebook-cell:/c%3A/Users/Public/Downloads/Git/K-PDA_GMP_W-S/4-4.KNN_Model.ipynb#W6sZmlsZQ%3D%3D?line=5'>6</a>\u001b[0m \u001b[39m# 예측 결과 확인\u001b[39;00m\n\u001b[0;32m      <a href='vscode-notebook-cell:/c%3A/Users/Public/Downloads/Git/K-PDA_GMP_W-S/4-4.KNN_Model.ipynb#W6sZmlsZQ%3D%3D?line=6'>7</a>\u001b[0m ideal_type_pred \u001b[39m=\u001b[39m model\u001b[39m.\u001b[39mpredict(ideal_type_data_array)\n",
            "\u001b[1;31mNameError\u001b[0m: name 'ideal_type_data_array' is not defined"
          ]
        }
      ],
      "source": [
        "# KNN 분류 모델 생성 및 훈련\n",
        "from sklearn.neighbors import KNeighborsClassifier\n",
        "model = KNeighborsClassifier(n_neighbors=5) # KNN 분류 모델 생성, 이웃의 수는 5으로 설정\n",
        "model.fit(ideal_type_data_array, ideal_type_target_array) # 모델 훈련\n",
        "\n",
        "# 예측 결과 확인\n",
        "ideal_type_pred = model.predict(ideal_type_data_array)\n",
        "print(ideal_type_pred) # 모델이 예측한 결과\n",
        "\n",
        "# confusion_matrix 함수를 사용하여 오차 행렬 출력\n",
        "from sklearn.metrics import confusion_matrix, classification_report\n",
        "print(confusion_matrix(ideal_type_target_array, model.predict(ideal_type_data_array))) # 오차 행렬(혼돈 행렬) 출력, 혼돈 행렬의 숫자는 데이터가 대각선일수록 좋음\n",
        "print(classification_report(ideal_type_target_array, ideal_type_pred)) # 정밀도, 재현율, F1 점수 출력"
      ]
    },
    {
      "cell_type": "markdown",
      "metadata": {},
      "source": [
        "**_KNN 예시 코드 1 종료_**\n",
        "\n",
        "---"
      ]
    },
    {
      "cell_type": "markdown",
      "metadata": {},
      "source": [
        "---\n",
        "#### 코드블럭2\n",
        "**_KNN 예시 코드 2 시작_**\n",
        "\n",
        "나이에 따른 수입과 구매 데이터를 활용한 KNN Model"
      ]
    },
    {
      "cell_type": "code",
      "execution_count": 50,
      "metadata": {},
      "outputs": [],
      "source": [
        "# 1. 필요한 라이브러리 불러오기\n",
        "import pandas as pd\n",
        "import matplotlib.pyplot as plt\n",
        "import numpy as np\n",
        "from sklearn.preprocessing import StandardScaler\n",
        "from sklearn.neighbors import KNeighborsRegressor"
      ]
    },
    {
      "cell_type": "code",
      "execution_count": 56,
      "metadata": {},
      "outputs": [
        {
          "data": {
            "text/html": [
              "<div>\n",
              "<style scoped>\n",
              "    .dataframe tbody tr th:only-of-type {\n",
              "        vertical-align: middle;\n",
              "    }\n",
              "\n",
              "    .dataframe tbody tr th {\n",
              "        vertical-align: top;\n",
              "    }\n",
              "\n",
              "    .dataframe thead th {\n",
              "        text-align: right;\n",
              "    }\n",
              "</style>\n",
              "<table border=\"1\" class=\"dataframe\">\n",
              "  <thead>\n",
              "    <tr style=\"text-align: right;\">\n",
              "      <th></th>\n",
              "      <th>age</th>\n",
              "      <th>salary</th>\n",
              "      <th>purchase</th>\n",
              "    </tr>\n",
              "  </thead>\n",
              "  <tbody>\n",
              "    <tr>\n",
              "      <th>0</th>\n",
              "      <td>26</td>\n",
              "      <td>160</td>\n",
              "      <td>구매</td>\n",
              "    </tr>\n",
              "    <tr>\n",
              "      <th>1</th>\n",
              "      <td>35</td>\n",
              "      <td>210</td>\n",
              "      <td>비구매</td>\n",
              "    </tr>\n",
              "    <tr>\n",
              "      <th>2</th>\n",
              "      <td>26</td>\n",
              "      <td>220</td>\n",
              "      <td>비구매</td>\n",
              "    </tr>\n",
              "    <tr>\n",
              "      <th>3</th>\n",
              "      <td>29</td>\n",
              "      <td>260</td>\n",
              "      <td>구매</td>\n",
              "    </tr>\n",
              "    <tr>\n",
              "      <th>4</th>\n",
              "      <td>22</td>\n",
              "      <td>110</td>\n",
              "      <td>비구매</td>\n",
              "    </tr>\n",
              "  </tbody>\n",
              "</table>\n",
              "</div>"
            ],
            "text/plain": [
              "   age  salary purchase\n",
              "0   26     160       구매\n",
              "1   35     210      비구매\n",
              "2   26     220      비구매\n",
              "3   29     260       구매\n",
              "4   22     110      비구매"
            ]
          },
          "execution_count": 56,
          "metadata": {},
          "output_type": "execute_result"
        }
      ],
      "source": [
        "# 2. 필요한 데이터 불러오기\n",
        "\n",
        "# \"4-4-2.purchase.csv\"에서 데이터 프레임 생성 및 상위 5 개 데이터 확인\n",
        "purchase = pd.read_csv(\"https://raw.githubusercontent.com/imbiotech/skbtML/main/4-4-2.purchase.csv\")\n",
        "purchase.head()"
      ]
    },
    {
      "cell_type": "code",
      "execution_count": 35,
      "metadata": {},
      "outputs": [
        {
          "data": {
            "text/plain": [
              "array([[ 26, 160,   1],\n",
              "       [ 35, 210,   0],\n",
              "       [ 26, 220,   0],\n",
              "       [ 29, 260,   1],\n",
              "       [ 22, 110,   0]], dtype=int64)"
            ]
          },
          "execution_count": 35,
          "metadata": {},
          "output_type": "execute_result"
        }
      ],
      "source": [
        "# 3. 데이터 전처리\n",
        "\n",
        "# \"purchase\" 컬럼을 범주형 데이터에서 수치형 데이터로 변환\n",
        "purchase[\"purchase\"] = purchase[\"purchase\"].replace(\"구매\", 1)\n",
        "purchase[\"purchase\"] = purchase[\"purchase\"].replace(\"비구매\", 0)\n",
        "\n",
        "# purchase 데이터 프레임을 array로 변환\n",
        "purchase_array = np.array(purchase)\n",
        "purchase_array[:5]"
      ]
    },
    {
      "cell_type": "code",
      "execution_count": 64,
      "metadata": {},
      "outputs": [
        {
          "name": "stdout",
          "output_type": "stream",
          "text": [
            "purchase_array:\n",
            " [[-0.67743894 -0.81302375  1.22474487]\n",
            " [ 1.0161584  -0.25994637 -0.81649658]\n",
            " [-0.67743894 -0.14933089 -0.81649658]\n",
            " [-0.11290649  0.29313101  1.22474487]\n",
            " [-1.43014887 -1.36610113 -0.81649658]]\n",
            "\n",
            "purchase\n"
          ]
        },
        {
          "data": {
            "text/html": [
              "<div>\n",
              "<style scoped>\n",
              "    .dataframe tbody tr th:only-of-type {\n",
              "        vertical-align: middle;\n",
              "    }\n",
              "\n",
              "    .dataframe tbody tr th {\n",
              "        vertical-align: top;\n",
              "    }\n",
              "\n",
              "    .dataframe thead th {\n",
              "        text-align: right;\n",
              "    }\n",
              "</style>\n",
              "<table border=\"1\" class=\"dataframe\">\n",
              "  <thead>\n",
              "    <tr style=\"text-align: right;\">\n",
              "      <th></th>\n",
              "      <th>age</th>\n",
              "      <th>income</th>\n",
              "      <th>purchase</th>\n",
              "    </tr>\n",
              "  </thead>\n",
              "  <tbody>\n",
              "    <tr>\n",
              "      <th>0</th>\n",
              "      <td>-0.677439</td>\n",
              "      <td>-0.813024</td>\n",
              "      <td>1.224745</td>\n",
              "    </tr>\n",
              "    <tr>\n",
              "      <th>1</th>\n",
              "      <td>1.016158</td>\n",
              "      <td>-0.259946</td>\n",
              "      <td>-0.816497</td>\n",
              "    </tr>\n",
              "    <tr>\n",
              "      <th>2</th>\n",
              "      <td>-0.677439</td>\n",
              "      <td>-0.149331</td>\n",
              "      <td>-0.816497</td>\n",
              "    </tr>\n",
              "    <tr>\n",
              "      <th>3</th>\n",
              "      <td>-0.112906</td>\n",
              "      <td>0.293131</td>\n",
              "      <td>1.224745</td>\n",
              "    </tr>\n",
              "    <tr>\n",
              "      <th>4</th>\n",
              "      <td>-1.430149</td>\n",
              "      <td>-1.366101</td>\n",
              "      <td>-0.816497</td>\n",
              "    </tr>\n",
              "  </tbody>\n",
              "</table>\n",
              "</div>"
            ],
            "text/plain": [
              "        age    income  purchase\n",
              "0 -0.677439 -0.813024  1.224745\n",
              "1  1.016158 -0.259946 -0.816497\n",
              "2 -0.677439 -0.149331 -0.816497\n",
              "3 -0.112906  0.293131  1.224745\n",
              "4 -1.430149 -1.366101 -0.816497"
            ]
          },
          "execution_count": 64,
          "metadata": {},
          "output_type": "execute_result"
        }
      ],
      "source": [
        "# 데이터 fit_transform 함수를 사용하여 데이터를 표준화\n",
        "scaler = StandardScaler()\n",
        "purchase_array = scaler.fit_transform(purchase_array)\n",
        "print(f\"purchase_array:\\n {purchase_array[:5]}\\n\")\n",
        "\n",
        "# 표준화하면서 데이터 프레임이 array로 변환되었으므로 다시 데이터 프레임으로 변환\n",
        "purchase = pd.DataFrame(purchase_array, columns=[\"age\", \"income\", \"purchase\"])\n",
        "print(\"purchase\")\n",
        "purchase.head()"
      ]
    },
    {
      "cell_type": "code",
      "execution_count": 70,
      "metadata": {},
      "outputs": [
        {
          "data": {
            "text/html": [
              "<style>#sk-container-id-3 {color: black;}#sk-container-id-3 pre{padding: 0;}#sk-container-id-3 div.sk-toggleable {background-color: white;}#sk-container-id-3 label.sk-toggleable__label {cursor: pointer;display: block;width: 100%;margin-bottom: 0;padding: 0.3em;box-sizing: border-box;text-align: center;}#sk-container-id-3 label.sk-toggleable__label-arrow:before {content: \"▸\";float: left;margin-right: 0.25em;color: #696969;}#sk-container-id-3 label.sk-toggleable__label-arrow:hover:before {color: black;}#sk-container-id-3 div.sk-estimator:hover label.sk-toggleable__label-arrow:before {color: black;}#sk-container-id-3 div.sk-toggleable__content {max-height: 0;max-width: 0;overflow: hidden;text-align: left;background-color: #f0f8ff;}#sk-container-id-3 div.sk-toggleable__content pre {margin: 0.2em;color: black;border-radius: 0.25em;background-color: #f0f8ff;}#sk-container-id-3 input.sk-toggleable__control:checked~div.sk-toggleable__content {max-height: 200px;max-width: 100%;overflow: auto;}#sk-container-id-3 input.sk-toggleable__control:checked~label.sk-toggleable__label-arrow:before {content: \"▾\";}#sk-container-id-3 div.sk-estimator input.sk-toggleable__control:checked~label.sk-toggleable__label {background-color: #d4ebff;}#sk-container-id-3 div.sk-label input.sk-toggleable__control:checked~label.sk-toggleable__label {background-color: #d4ebff;}#sk-container-id-3 input.sk-hidden--visually {border: 0;clip: rect(1px 1px 1px 1px);clip: rect(1px, 1px, 1px, 1px);height: 1px;margin: -1px;overflow: hidden;padding: 0;position: absolute;width: 1px;}#sk-container-id-3 div.sk-estimator {font-family: monospace;background-color: #f0f8ff;border: 1px dotted black;border-radius: 0.25em;box-sizing: border-box;margin-bottom: 0.5em;}#sk-container-id-3 div.sk-estimator:hover {background-color: #d4ebff;}#sk-container-id-3 div.sk-parallel-item::after {content: \"\";width: 100%;border-bottom: 1px solid gray;flex-grow: 1;}#sk-container-id-3 div.sk-label:hover label.sk-toggleable__label {background-color: #d4ebff;}#sk-container-id-3 div.sk-serial::before {content: \"\";position: absolute;border-left: 1px solid gray;box-sizing: border-box;top: 0;bottom: 0;left: 50%;z-index: 0;}#sk-container-id-3 div.sk-serial {display: flex;flex-direction: column;align-items: center;background-color: white;padding-right: 0.2em;padding-left: 0.2em;position: relative;}#sk-container-id-3 div.sk-item {position: relative;z-index: 1;}#sk-container-id-3 div.sk-parallel {display: flex;align-items: stretch;justify-content: center;background-color: white;position: relative;}#sk-container-id-3 div.sk-item::before, #sk-container-id-3 div.sk-parallel-item::before {content: \"\";position: absolute;border-left: 1px solid gray;box-sizing: border-box;top: 0;bottom: 0;left: 50%;z-index: -1;}#sk-container-id-3 div.sk-parallel-item {display: flex;flex-direction: column;z-index: 1;position: relative;background-color: white;}#sk-container-id-3 div.sk-parallel-item:first-child::after {align-self: flex-end;width: 50%;}#sk-container-id-3 div.sk-parallel-item:last-child::after {align-self: flex-start;width: 50%;}#sk-container-id-3 div.sk-parallel-item:only-child::after {width: 0;}#sk-container-id-3 div.sk-dashed-wrapped {border: 1px dashed gray;margin: 0 0.4em 0.5em 0.4em;box-sizing: border-box;padding-bottom: 0.4em;background-color: white;}#sk-container-id-3 div.sk-label label {font-family: monospace;font-weight: bold;display: inline-block;line-height: 1.2em;}#sk-container-id-3 div.sk-label-container {text-align: center;}#sk-container-id-3 div.sk-container {/* jupyter's `normalize.less` sets `[hidden] { display: none; }` but bootstrap.min.css set `[hidden] { display: none !important; }` so we also need the `!important` here to be able to override the default hidden behavior on the sphinx rendered scikit-learn.org. See: https://github.com/scikit-learn/scikit-learn/issues/21755 */display: inline-block !important;position: relative;}#sk-container-id-3 div.sk-text-repr-fallback {display: none;}</style><div id=\"sk-container-id-3\" class=\"sk-top-container\"><div class=\"sk-text-repr-fallback\"><pre>KNeighborsRegressor()</pre><b>In a Jupyter environment, please rerun this cell to show the HTML representation or trust the notebook. <br />On GitHub, the HTML representation is unable to render, please try loading this page with nbviewer.org.</b></div><div class=\"sk-container\" hidden><div class=\"sk-item\"><div class=\"sk-estimator sk-toggleable\"><input class=\"sk-toggleable__control sk-hidden--visually\" id=\"sk-estimator-id-3\" type=\"checkbox\" checked><label for=\"sk-estimator-id-3\" class=\"sk-toggleable__label sk-toggleable__label-arrow\">KNeighborsRegressor</label><div class=\"sk-toggleable__content\"><pre>KNeighborsRegressor()</pre></div></div></div></div></div>"
            ],
            "text/plain": [
              "KNeighborsRegressor()"
            ]
          },
          "execution_count": 70,
          "metadata": {},
          "output_type": "execute_result"
        }
      ],
      "source": [
        "# 4. KNN 분류 모델 생성 및 훈련\n",
        "\n",
        "# 데이터와 결과를 분리, 데이터 = income, purchase, 결과 = age 2개 컬럼\n",
        "# 데이터에 두 개의 컬럼을 사용하기 위해 결과를 age로 설정\n",
        "purchase_data = purchase[[\"income\", \"purchase\"]]\n",
        "purchase_target = purchase[\"age\"]\n",
        "\n",
        "# 데이터와 결과를 array로 변환\n",
        "purchase_data_array = np.array(purchase_data)\n",
        "purchase_target_array = np.array(purchase_target)\n",
        "\n",
        "# KNN 분류 모델 생성 및 훈련\n",
        "model = KNeighborsRegressor() # KNN 분류 모델 생성, 이웃의 수는 Default 값인 5로 설정\n",
        "model.fit(purchase_data_array, purchase_target_array) # 모델 훈련"
      ]
    },
    {
      "cell_type": "code",
      "execution_count": 71,
      "metadata": {},
      "outputs": [
        {
          "name": "stdout",
          "output_type": "stream",
          "text": [
            "purchase_pred:\n",
            " [ 1.50541986e-01 -1.50541986e-01 -3.33066907e-17  5.64532447e-01\n",
            " -7.52709929e-01]\n",
            "\n",
            "MSE: 0.4115, RMSE: 0.6415, R2: 0.5885\n",
            "\n"
          ]
        }
      ],
      "source": [
        "# 5. 예측 결과 확인 및 평가\n",
        "\n",
        "# 예측 결과 확인\n",
        "purchase_pred = model.predict(purchase_data_array)\n",
        "print(f\"purchase_pred:\\n {purchase_pred[:5]}\\n\") # 모델이 예측한 결과\n",
        "\n",
        "# MSE, RMSE, R2 점수 출력\n",
        "from sklearn.metrics import mean_squared_error, r2_score\n",
        "mse = mean_squared_error(purchase_target_array, purchase_pred)\n",
        "rmse = np.sqrt(mse)\n",
        "r2 = r2_score(purchase_target_array, purchase_pred)\n",
        "print(f\"MSE: {mse:.4f}, RMSE: {rmse:.4f}, R2: {r2:.4f}\\n\")"
      ]
    },
    {
      "cell_type": "code",
      "execution_count": 78,
      "metadata": {},
      "outputs": [
        {
          "data": {
            "image/png": "[encoded data removed]",
            "text/plain": [
              "<Figure size 640x480 with 1 Axes>"
            ]
          },
          "metadata": {},
          "output_type": "display_data"
        }
      ],
      "source": [
        "# 시각화\n",
        "plt.scatter(purchase_target_array, purchase_target_array, label=\"real\") # 실제값을 그래프에 표시\n",
        "plt.scatter(purchase_target_array, purchase_pred, label=\"pred\") # 예측값을 그래프에 표시\n",
        "plt.title(\"KNN Regression\") # 그래프 제목 설정\n",
        "plt.legend() # 범례 표시\n",
        "plt.show() # 그래프 출력"
      ]
    },
    {
      "cell_type": "markdown",
      "metadata": {},
      "source": [
        "**_KNN 예시 코드 2 종료_**\n",
        "\n",
        "---"
      ]
    },
    {
      "cell_type": "markdown",
      "metadata": {},
      "source": [
        "---\n",
        "#### 코드블럭3\n",
        "**_KNN 예시 코드 3 시작_**\n",
        "\n",
        "Iris data를 활용한 KNN Model"
      ]
    },
    {
      "cell_type": "code",
      "execution_count": 105,
      "metadata": {},
      "outputs": [],
      "source": [
        "# 1. 필요한 라이브러리 불러오기\n",
        "import pandas as pd\n",
        "import matplotlib.pyplot as plt\n",
        "import numpy as np\n",
        "from sklearn import datasets\n",
        "from sklearn.model_selection import train_test_split\n",
        "from sklearn.preprocessing import StandardScaler\n",
        "from sklearn.neighbors import KNeighborsClassifier\n",
        "from sklearn.metrics import confusion_matrix, classification_report"
      ]
    },
    {
      "cell_type": "code",
      "execution_count": 85,
      "metadata": {},
      "outputs": [
        {
          "data": {
            "text/html": [
              "<div>\n",
              "<style scoped>\n",
              "    .dataframe tbody tr th:only-of-type {\n",
              "        vertical-align: middle;\n",
              "    }\n",
              "\n",
              "    .dataframe tbody tr th {\n",
              "        vertical-align: top;\n",
              "    }\n",
              "\n",
              "    .dataframe thead th {\n",
              "        text-align: right;\n",
              "    }\n",
              "</style>\n",
              "<table border=\"1\" class=\"dataframe\">\n",
              "  <thead>\n",
              "    <tr style=\"text-align: right;\">\n",
              "      <th></th>\n",
              "      <th>sepal length (cm)</th>\n",
              "      <th>sepal width (cm)</th>\n",
              "      <th>petal length (cm)</th>\n",
              "      <th>petal width (cm)</th>\n",
              "      <th>target</th>\n",
              "    </tr>\n",
              "  </thead>\n",
              "  <tbody>\n",
              "    <tr>\n",
              "      <th>0</th>\n",
              "      <td>5.1</td>\n",
              "      <td>3.5</td>\n",
              "      <td>1.4</td>\n",
              "      <td>0.2</td>\n",
              "      <td>0</td>\n",
              "    </tr>\n",
              "    <tr>\n",
              "      <th>1</th>\n",
              "      <td>4.9</td>\n",
              "      <td>3.0</td>\n",
              "      <td>1.4</td>\n",
              "      <td>0.2</td>\n",
              "      <td>0</td>\n",
              "    </tr>\n",
              "    <tr>\n",
              "      <th>2</th>\n",
              "      <td>4.7</td>\n",
              "      <td>3.2</td>\n",
              "      <td>1.3</td>\n",
              "      <td>0.2</td>\n",
              "      <td>0</td>\n",
              "    </tr>\n",
              "    <tr>\n",
              "      <th>3</th>\n",
              "      <td>4.6</td>\n",
              "      <td>3.1</td>\n",
              "      <td>1.5</td>\n",
              "      <td>0.2</td>\n",
              "      <td>0</td>\n",
              "    </tr>\n",
              "    <tr>\n",
              "      <th>4</th>\n",
              "      <td>5.0</td>\n",
              "      <td>3.6</td>\n",
              "      <td>1.4</td>\n",
              "      <td>0.2</td>\n",
              "      <td>0</td>\n",
              "    </tr>\n",
              "  </tbody>\n",
              "</table>\n",
              "</div>"
            ],
            "text/plain": [
              "   sepal length (cm)  sepal width (cm)  petal length (cm)  petal width (cm)   \n",
              "0                5.1               3.5                1.4               0.2  \\\n",
              "1                4.9               3.0                1.4               0.2   \n",
              "2                4.7               3.2                1.3               0.2   \n",
              "3                4.6               3.1                1.5               0.2   \n",
              "4                5.0               3.6                1.4               0.2   \n",
              "\n",
              "   target  \n",
              "0       0  \n",
              "1       0  \n",
              "2       0  \n",
              "3       0  \n",
              "4       0  "
            ]
          },
          "execution_count": 85,
          "metadata": {},
          "output_type": "execute_result"
        }
      ],
      "source": [
        "# 2. 필요한 데이터 불러오기\n",
        "iris = datasets.load_iris() # 붓꽃 데이터 불러오기\n",
        "iris_df = pd.DataFrame(iris.data, columns=iris.feature_names) # 데이터 프레임 생성\n",
        "iris_df[\"target\"] = iris.target # target 컬럼 추가\n",
        "iris_df.head() # 데이터 프레임 상위 5개 데이터 확인"
      ]
    },
    {
      "cell_type": "code",
      "execution_count": 102,
      "metadata": {},
      "outputs": [
        {
          "name": "stdout",
          "output_type": "stream",
          "text": [
            "데이터 중 상위 5개: \n",
            " [[5.1 3.5 1.4 0.2]\n",
            " [4.9 3.  1.4 0.2]\n",
            " [4.7 3.2 1.3 0.2]\n",
            " [4.6 3.1 1.5 0.2]\n",
            " [5.  3.6 1.4 0.2]] \n",
            " 결과 중 상위 5개: \n",
            " [0 0 0 0 0] \n",
            "\n",
            "표준화된 훈련 데이터 중 상위 5개: \n",
            " [[ 0.31553662 -0.04578885  0.44767531  0.23380268]\n",
            " [ 2.2449325  -0.04578885  1.29769171  1.39742892]\n",
            " [-0.2873996  -1.24028061  0.05100098 -0.15407273]\n",
            " [ 0.67729835 -0.52358555  1.01435291  1.13884531]\n",
            " [-0.04622511 -0.52358555  0.73101411  1.52672073]] \n",
            " 표준화된 테스트 데이터 중 상위 5개: \n",
            " [[-0.04622511  2.34319467 -1.47902854 -1.31769898]\n",
            " [-0.89033581 -1.24028061 -0.45900886 -0.15407273]\n",
            " [ 0.91847283 -0.04578885  0.33433978  0.23380268]\n",
            " [-0.52857408  2.10429632 -1.42236078 -1.05911537]\n",
            " [ 2.48610699  1.86539796  1.46769499  1.00955351]] \n",
            "\n"
          ]
        }
      ],
      "source": [
        "# 3. 데이터 전처리\n",
        "\n",
        "# 데이터와 결과를 분리하고 array로 변환\n",
        "iris_data = iris_df.drop(\"target\", axis=1)\n",
        "iris_target = iris_df[\"target\"]\n",
        "iris_data_array = np.array(iris_data)\n",
        "iris_target_array = np.array(iris_target)\n",
        "\n",
        "print(f\"데이터 중 상위 5개: \\n {iris_data_array[:5]} \\n 결과 중 상위 5개: \\n {iris_target_array[:5]} \\n\")\n",
        "\n",
        "# 훈련 데이터와 테스트 데이터 분리\n",
        "X_train, X_test, y_train, y_test = train_test_split(iris_data_array, iris_target_array, test_size=0.2, random_state=1)\n",
        "\n",
        "# 훈련 데이터에 대해서 fit 후 훈련 데이터 및 테스트 데이터 표준화\n",
        "scaler = StandardScaler()\n",
        "X_train = scaler.fit_transform(X_train)\n",
        "X_test = scaler.transform(X_test)\n",
        "\n",
        "print(f\"표준화된 훈련 데이터 중 상위 5개: \\n {X_train[:5]} \\n 표준화된 테스트 데이터 중 상위 5개: \\n {X_test[:5]} \\n\")"
      ]
    },
    {
      "cell_type": "code",
      "execution_count": 100,
      "metadata": {},
      "outputs": [
        {
          "data": {
            "text/html": [
              "<style>#sk-container-id-4 {color: black;}#sk-container-id-4 pre{padding: 0;}#sk-container-id-4 div.sk-toggleable {background-color: white;}#sk-container-id-4 label.sk-toggleable__label {cursor: pointer;display: block;width: 100%;margin-bottom: 0;padding: 0.3em;box-sizing: border-box;text-align: center;}#sk-container-id-4 label.sk-toggleable__label-arrow:before {content: \"▸\";float: left;margin-right: 0.25em;color: #696969;}#sk-container-id-4 label.sk-toggleable__label-arrow:hover:before {color: black;}#sk-container-id-4 div.sk-estimator:hover label.sk-toggleable__label-arrow:before {color: black;}#sk-container-id-4 div.sk-toggleable__content {max-height: 0;max-width: 0;overflow: hidden;text-align: left;background-color: #f0f8ff;}#sk-container-id-4 div.sk-toggleable__content pre {margin: 0.2em;color: black;border-radius: 0.25em;background-color: #f0f8ff;}#sk-container-id-4 input.sk-toggleable__control:checked~div.sk-toggleable__content {max-height: 200px;max-width: 100%;overflow: auto;}#sk-container-id-4 input.sk-toggleable__control:checked~label.sk-toggleable__label-arrow:before {content: \"▾\";}#sk-container-id-4 div.sk-estimator input.sk-toggleable__control:checked~label.sk-toggleable__label {background-color: #d4ebff;}#sk-container-id-4 div.sk-label input.sk-toggleable__control:checked~label.sk-toggleable__label {background-color: #d4ebff;}#sk-container-id-4 input.sk-hidden--visually {border: 0;clip: rect(1px 1px 1px 1px);clip: rect(1px, 1px, 1px, 1px);height: 1px;margin: -1px;overflow: hidden;padding: 0;position: absolute;width: 1px;}#sk-container-id-4 div.sk-estimator {font-family: monospace;background-color: #f0f8ff;border: 1px dotted black;border-radius: 0.25em;box-sizing: border-box;margin-bottom: 0.5em;}#sk-container-id-4 div.sk-estimator:hover {background-color: #d4ebff;}#sk-container-id-4 div.sk-parallel-item::after {content: \"\";width: 100%;border-bottom: 1px solid gray;flex-grow: 1;}#sk-container-id-4 div.sk-label:hover label.sk-toggleable__label {background-color: #d4ebff;}#sk-container-id-4 div.sk-serial::before {content: \"\";position: absolute;border-left: 1px solid gray;box-sizing: border-box;top: 0;bottom: 0;left: 50%;z-index: 0;}#sk-container-id-4 div.sk-serial {display: flex;flex-direction: column;align-items: center;background-color: white;padding-right: 0.2em;padding-left: 0.2em;position: relative;}#sk-container-id-4 div.sk-item {position: relative;z-index: 1;}#sk-container-id-4 div.sk-parallel {display: flex;align-items: stretch;justify-content: center;background-color: white;position: relative;}#sk-container-id-4 div.sk-item::before, #sk-container-id-4 div.sk-parallel-item::before {content: \"\";position: absolute;border-left: 1px solid gray;box-sizing: border-box;top: 0;bottom: 0;left: 50%;z-index: -1;}#sk-container-id-4 div.sk-parallel-item {display: flex;flex-direction: column;z-index: 1;position: relative;background-color: white;}#sk-container-id-4 div.sk-parallel-item:first-child::after {align-self: flex-end;width: 50%;}#sk-container-id-4 div.sk-parallel-item:last-child::after {align-self: flex-start;width: 50%;}#sk-container-id-4 div.sk-parallel-item:only-child::after {width: 0;}#sk-container-id-4 div.sk-dashed-wrapped {border: 1px dashed gray;margin: 0 0.4em 0.5em 0.4em;box-sizing: border-box;padding-bottom: 0.4em;background-color: white;}#sk-container-id-4 div.sk-label label {font-family: monospace;font-weight: bold;display: inline-block;line-height: 1.2em;}#sk-container-id-4 div.sk-label-container {text-align: center;}#sk-container-id-4 div.sk-container {/* jupyter's `normalize.less` sets `[hidden] { display: none; }` but bootstrap.min.css set `[hidden] { display: none !important; }` so we also need the `!important` here to be able to override the default hidden behavior on the sphinx rendered scikit-learn.org. See: https://github.com/scikit-learn/scikit-learn/issues/21755 */display: inline-block !important;position: relative;}#sk-container-id-4 div.sk-text-repr-fallback {display: none;}</style><div id=\"sk-container-id-4\" class=\"sk-top-container\"><div class=\"sk-text-repr-fallback\"><pre>KNeighborsClassifier()</pre><b>In a Jupyter environment, please rerun this cell to show the HTML representation or trust the notebook. <br />On GitHub, the HTML representation is unable to render, please try loading this page with nbviewer.org.</b></div><div class=\"sk-container\" hidden><div class=\"sk-item\"><div class=\"sk-estimator sk-toggleable\"><input class=\"sk-toggleable__control sk-hidden--visually\" id=\"sk-estimator-id-4\" type=\"checkbox\" checked><label for=\"sk-estimator-id-4\" class=\"sk-toggleable__label sk-toggleable__label-arrow\">KNeighborsClassifier</label><div class=\"sk-toggleable__content\"><pre>KNeighborsClassifier()</pre></div></div></div></div></div>"
            ],
            "text/plain": [
              "KNeighborsClassifier()"
            ]
          },
          "execution_count": 100,
          "metadata": {},
          "output_type": "execute_result"
        }
      ],
      "source": [
        "# 4. KNN 분류 모델 생성 및 훈련\n",
        "\n",
        "# KNN 분류 모델 생성 및 훈련\n",
        "model = KNeighborsClassifier(n_neighbors=5) # KNN 분류 모델 생성, 이웃의 수는 5로 설정\n",
        "model.fit(X_train, y_train) # 모델 훈련"
      ]
    },
    {
      "cell_type": "code",
      "execution_count": 107,
      "metadata": {},
      "outputs": [
        {
          "name": "stdout",
          "output_type": "stream",
          "text": [
            "테스트 데이터를 통한 예측 결과 중 상위 5개:\n",
            " [0 1 1 0 2]\n",
            "\n",
            "[[11  0  0]\n",
            " [ 0 12  1]\n",
            " [ 0  0  6]]\n",
            "              precision    recall  f1-score   support\n",
            "\n",
            "           0       1.00      1.00      1.00        11\n",
            "           1       1.00      0.92      0.96        13\n",
            "           2       0.86      1.00      0.92         6\n",
            "\n",
            "    accuracy                           0.97        30\n",
            "   macro avg       0.95      0.97      0.96        30\n",
            "weighted avg       0.97      0.97      0.97        30\n",
            "\n"
          ]
        }
      ],
      "source": [
        "# 5. 예측 결과 확인 및 평가\n",
        "\n",
        "# 예측 결과 확인\n",
        "y_pred = model.predict(X_test)\n",
        "print(f\"테스트 데이터를 통한 예측 결과 중 상위 5개:\\n {y_pred[:5]}\\n\") # 모델이 예측한 결과\n",
        "\n",
        "# confusion_matrix 함수를 사용하여 오차 행렬 출력\n",
        "print(confusion_matrix(y_test, y_pred)) # 오차 행렬(혼돈 행렬) 출력, 혼돈 행렬의 숫자는 데이터가 대각선일수록 좋음\n",
        "print(classification_report(y_test, y_pred)) # 정밀도, 재현율, F1 점수 출력"
      ]
    },
    {
      "cell_type": "markdown",
      "metadata": {},
      "source": [
        "**_KNN 예시 코드 3 종료_**\n",
        "\n",
        "---"
      ]
    }
  ],
  "metadata": {
    "colab": {
      "include_colab_link": true,
      "provenance": []
    },
    "kernelspec": {
      "display_name": "Python 3",
      "language": "python",
      "name": "python3"
    },
    "language_info": {
      "codemirror_mode": {
        "name": "ipython",
        "version": 3
      },
      "file_extension": ".py",
      "mimetype": "text/x-python",
      "name": "python",
      "nbconvert_exporter": "python",
      "pygments_lexer": "ipython3",
      "version": "3.10.4"
    }
  },
  "nbformat": 4,
  "nbformat_minor": 0
}
