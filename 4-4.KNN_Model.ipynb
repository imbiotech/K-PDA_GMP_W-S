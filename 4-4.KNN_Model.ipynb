{
  "cells": [
    {
      "cell_type": "markdown",
      "metadata": {
        "colab_type": "text",
        "id": "view-in-github"
      },
      "source": [
        "<a href=\"https://colab.research.google.com/github/imbiotech/skbtML/blob/main/4-4.KNN_Model.ipynb\" target=\"_parent\"><img src=\"https://colab.research.google.com/assets/colab-badge.svg\" alt=\"Open In Colab\"/></a>"
      ]
    },
    {
      "cell_type": "markdown",
      "metadata": {
        "id": "BlBbF9KT2cx3"
      },
      "source": [
        "### `4-4.KNN(K-Nearest Neighbor)`\n",
        "\n",
        "* 가장 가까운 K개의 이웃의 대표 속성값을 통해 데이터를 예측하는 알고리즘\n",
        "\n",
        "* KNN의 장점\n",
        "    * 간단한 구조\n",
        "    * 이해가 쉬움\n",
        "    * 구현이 쉬움\n",
        "    * 강력한 결과 (노력 대비 좋은 성능)\n",
        "    * 데이터 수가 적어도 Model을 생성할 수 있음\n",
        "\n",
        "* KNN의 특징\n",
        "    * 가장 많은 자료 수가 존재하는 클래스/속성을 예측값으로 설정\n",
        "    * 여러 개의 K값으로 테스트를 해본 후 가장 좋은 방법으로 나눔\n",
        "        * K값에 따라서 분류 결과가 달라지고 정확도와 신뢰도까지 영향을 받음\n",
        "    * 모든 계산이 이뤄진 후에 분류를 수행하므로 사례 기반 학습 또는 메모리 기반 학습으로 부름\n",
        "    * 훈련 데이터에 Target이 존재하는 지도 학습 알고리즘\n",
        "    * 각 속성에 맞춰 레벨을 분류하는 방식으로 예측 진행\n",
        "    * KNN의 적용 분야\n",
        "        * 분류에 해당하는 대부분의 업무 분야에 적용 가능\n",
        "        * 얼굴 인식이나 글자 인식 등 이미지 인식\n",
        "        * 적절한 상품 추천\n",
        "        <br/>등\n",
        "\n",
        "* KNN의 적용법\n",
        "    1. 예측 대상을 기점으로 K개의 이웃이 포함된 대표 집단을 만듦\n",
        "    2. 대표 집단 내에서 클래스 또는 속성을 설정하고 집단 내에서 우세한 레벨을 찾음\n",
        "    3. 예측 대상이 우세한 레벨과 동일한 레벨이라고 가정하여 예측 진행\n",
        "        1) 단순 KNN은 집단 내의 거리가 무시될 수 있음\n",
        "        2) 거리를 고려한 weighted KNN을 사용하기도 함\n",
        "        <br/> \"거리의 역수\"나 \"거리의 역수의 제곱의 역수\"를 가중치로 두어 정확도가 높아짐\n",
        "    \n",
        "\n",
        "* 용도에 따라 다음과 같은 python 함수를 사용\n",
        "    * KNeighborsClassifier(): 분류 알고리즘\n",
        "    * KNeighborsRegressor(): 연속 데이터 예측 알고리즘"
      ]
    },
    {
      "cell_type": "markdown",
      "metadata": {
        "id": "T_7smBbP2cx6"
      },
      "source": [
        "---\n",
        "#### 코드블럭1\n",
        "**_KNN 예시 코드 1 시작_**\n",
        "\n",
        "이상형 데이터에 대한 KNN Model"
      ]
    },
    {
      "cell_type": "code",
      "execution_count": null,
      "metadata": {
        "id": "GBOuTu_x2cx6"
      },
      "outputs": [],
      "source": [
        "import pandas as pd\n",
        "import matplotlib.pyplot as plt\n",
        "import numpy as np\n",
        "\n",
        "# \"ideal_type.csv\"에서 데이터 프레임 생성 및 상위 5 개 데이터 확인\n",
        "ideal_type = pd.read_csv(\"https://raw.githubusercontent.com/imbiotech/skbtML/main/4-4-1.ideal_type.csv\")\n",
        "ideal_type.head()"
      ]
    },
    {
      "cell_type": "code",
      "execution_count": null,
      "metadata": {
        "id": "2mRcrobe2cx7"
      },
      "outputs": [],
      "source": [
        "# 데이터와 결과를 분리\n",
        "ideal_type_data = ideal_type.drop(\"attraction_label\", axis=1)\n",
        "ideal_type_target = ideal_type[\"attraction_label\"]\n",
        "\n",
        "# 데이터와 결과를 array로 변환\n",
        "ideal_type_data_array = np.array(ideal_type_data)\n",
        "ideal_type_target_array = np.array(ideal_type_target)\n",
        "\n",
        "ideal_type_data_array, ideal_type_target_array"
      ]
    },
    {
      "cell_type": "code",
      "execution_count": null,
      "metadata": {
        "id": "zbsDoBJz2cx7"
      },
      "outputs": [],
      "source": [
        "# 데이터 정규화를 위해 StandardScaler 함수 불러오고 StandardScaler 생성\n",
        "from sklearn.preprocessing import StandardScaler\n",
        "scaler = StandardScaler()\n",
        "\n",
        "# fit_transform 함수를 사용하여 데이터를 표준화\n",
        "ideal_type_data_array = scaler.fit_transform(ideal_type_data_array)\n",
        "ideal_type_data_array"
      ]
    },
    {
      "cell_type": "code",
      "execution_count": 1,
      "metadata": {
        "id": "kcvfckIa2cx7"
      },
      "outputs": [
        {
          "ename": "NameError",
          "evalue": "name 'ideal_type_data_array' is not defined",
          "output_type": "error",
          "traceback": [
            "\u001b[1;31m---------------------------------------------------------------------------\u001b[0m",
            "\u001b[1;31mNameError\u001b[0m                                 Traceback (most recent call last)",
            "\u001b[1;32mc:\\Users\\Public\\Downloads\\Git\\K-PDA_GMP_W-S\\4-4.KNN_Model.ipynb Cell 8\u001b[0m line \u001b[0;36m4\n\u001b[0;32m      <a href='vscode-notebook-cell:/c%3A/Users/Public/Downloads/Git/K-PDA_GMP_W-S/4-4.KNN_Model.ipynb#W6sZmlsZQ%3D%3D?line=1'>2</a>\u001b[0m \u001b[39mfrom\u001b[39;00m \u001b[39msklearn\u001b[39;00m\u001b[39m.\u001b[39;00m\u001b[39mneighbors\u001b[39;00m \u001b[39mimport\u001b[39;00m KNeighborsClassifier\n\u001b[0;32m      <a href='vscode-notebook-cell:/c%3A/Users/Public/Downloads/Git/K-PDA_GMP_W-S/4-4.KNN_Model.ipynb#W6sZmlsZQ%3D%3D?line=2'>3</a>\u001b[0m model \u001b[39m=\u001b[39m KNeighborsClassifier(n_neighbors\u001b[39m=\u001b[39m\u001b[39m5\u001b[39m) \u001b[39m# KNN 분류 모델 생성, 이웃의 수는 5으로 설정\u001b[39;00m\n\u001b[1;32m----> <a href='vscode-notebook-cell:/c%3A/Users/Public/Downloads/Git/K-PDA_GMP_W-S/4-4.KNN_Model.ipynb#W6sZmlsZQ%3D%3D?line=3'>4</a>\u001b[0m model\u001b[39m.\u001b[39mfit(ideal_type_data_array, ideal_type_target_array) \u001b[39m# 모델 훈련\u001b[39;00m\n\u001b[0;32m      <a href='vscode-notebook-cell:/c%3A/Users/Public/Downloads/Git/K-PDA_GMP_W-S/4-4.KNN_Model.ipynb#W6sZmlsZQ%3D%3D?line=5'>6</a>\u001b[0m \u001b[39m# 예측 결과 확인\u001b[39;00m\n\u001b[0;32m      <a href='vscode-notebook-cell:/c%3A/Users/Public/Downloads/Git/K-PDA_GMP_W-S/4-4.KNN_Model.ipynb#W6sZmlsZQ%3D%3D?line=6'>7</a>\u001b[0m ideal_type_pred \u001b[39m=\u001b[39m model\u001b[39m.\u001b[39mpredict(ideal_type_data_array)\n",
            "\u001b[1;31mNameError\u001b[0m: name 'ideal_type_data_array' is not defined"
          ]
        }
      ],
      "source": [
        "# KNN 분류 모델 생성 및 훈련\n",
        "from sklearn.neighbors import KNeighborsClassifier\n",
        "model = KNeighborsClassifier(n_neighbors=5) # KNN 분류 모델 생성, 이웃의 수는 5으로 설정\n",
        "model.fit(ideal_type_data_array, ideal_type_target_array) # 모델 훈련\n",
        "\n",
        "# 예측 결과 확인\n",
        "ideal_type_pred = model.predict(ideal_type_data_array)\n",
        "print(ideal_type_pred) # 모델이 예측한 결과\n",
        "\n",
        "# confusion_matrix 함수를 사용하여 오차 행렬 출력\n",
        "from sklearn.metrics import confusion_matrix, classification_report\n",
        "print(confusion_matrix(ideal_type_target_array, model.predict(ideal_type_data_array))) # 오차 행렬(혼돈 행렬) 출력, 혼돈 행렬의 숫자는 데이터가 대각선일수록 좋음\n",
        "print(classification_report(ideal_type_target_array, ideal_type_pred)) # 정밀도, 재현율, F1 점수 출력"
      ]
    },
    {
      "cell_type": "markdown",
      "metadata": {},
      "source": [
        "**_KNN 예시 코드 1 종료_**\n",
        "\n",
        "---"
      ]
    },
    {
      "cell_type": "markdown",
      "metadata": {},
      "source": [
        "---\n",
        "#### 코드블럭2\n",
        "**_KNN 예시 코드 2 시작_**\n",
        "\n",
        "구매 데이터에 대한 KNN Model"
      ]
    },
    {
      "cell_type": "code",
      "execution_count": 2,
      "metadata": {},
      "outputs": [],
      "source": [
        "# 1. 필요한 라이브러리 불러오기\n",
        "import pandas as pd\n",
        "import matplotlib.pyplot as plt\n",
        "import numpy as np"
      ]
    },
    {
      "cell_type": "code",
      "execution_count": 14,
      "metadata": {},
      "outputs": [
        {
          "data": {
            "text/html": [
              "<div>\n",
              "<style scoped>\n",
              "    .dataframe tbody tr th:only-of-type {\n",
              "        vertical-align: middle;\n",
              "    }\n",
              "\n",
              "    .dataframe tbody tr th {\n",
              "        vertical-align: top;\n",
              "    }\n",
              "\n",
              "    .dataframe thead th {\n",
              "        text-align: right;\n",
              "    }\n",
              "</style>\n",
              "<table border=\"1\" class=\"dataframe\">\n",
              "  <thead>\n",
              "    <tr style=\"text-align: right;\">\n",
              "      <th></th>\n",
              "      <th>age</th>\n",
              "      <th>salary</th>\n",
              "      <th>purchase</th>\n",
              "    </tr>\n",
              "  </thead>\n",
              "  <tbody>\n",
              "    <tr>\n",
              "      <th>0</th>\n",
              "      <td>26</td>\n",
              "      <td>160</td>\n",
              "      <td>구매</td>\n",
              "    </tr>\n",
              "    <tr>\n",
              "      <th>1</th>\n",
              "      <td>35</td>\n",
              "      <td>210</td>\n",
              "      <td>비구매</td>\n",
              "    </tr>\n",
              "    <tr>\n",
              "      <th>2</th>\n",
              "      <td>26</td>\n",
              "      <td>220</td>\n",
              "      <td>비구매</td>\n",
              "    </tr>\n",
              "    <tr>\n",
              "      <th>3</th>\n",
              "      <td>29</td>\n",
              "      <td>260</td>\n",
              "      <td>구매</td>\n",
              "    </tr>\n",
              "    <tr>\n",
              "      <th>4</th>\n",
              "      <td>22</td>\n",
              "      <td>110</td>\n",
              "      <td>비구매</td>\n",
              "    </tr>\n",
              "  </tbody>\n",
              "</table>\n",
              "</div>"
            ],
            "text/plain": [
              "   age  salary purchase\n",
              "0   26     160       구매\n",
              "1   35     210      비구매\n",
              "2   26     220     비구매 \n",
              "3   29     260       구매\n",
              "4   22     110      비구매"
            ]
          },
          "execution_count": 14,
          "metadata": {},
          "output_type": "execute_result"
        }
      ],
      "source": [
        "# 2. 필요한 데이터 불러오기\n",
        "\n",
        "# \"4-4-2.purchase.csv\"에서 데이터 프레임 생성 및 상위 5 개 데이터 확인\n",
        "purchase = pd.read_csv(\"https://raw.githubusercontent.com/imbiotech/skbtML/main/4-4-2.purchase.csv\")\n",
        "purchase.head()"
      ]
    },
    {
      "cell_type": "code",
      "execution_count": 16,
      "metadata": {},
      "outputs": [
        {
          "data": {
            "text/html": [
              "<div>\n",
              "<style scoped>\n",
              "    .dataframe tbody tr th:only-of-type {\n",
              "        vertical-align: middle;\n",
              "    }\n",
              "\n",
              "    .dataframe tbody tr th {\n",
              "        vertical-align: top;\n",
              "    }\n",
              "\n",
              "    .dataframe thead th {\n",
              "        text-align: right;\n",
              "    }\n",
              "</style>\n",
              "<table border=\"1\" class=\"dataframe\">\n",
              "  <thead>\n",
              "    <tr style=\"text-align: right;\">\n",
              "      <th></th>\n",
              "      <th>age</th>\n",
              "      <th>salary</th>\n",
              "      <th>purchase</th>\n",
              "    </tr>\n",
              "  </thead>\n",
              "  <tbody>\n",
              "    <tr>\n",
              "      <th>0</th>\n",
              "      <td>26</td>\n",
              "      <td>160</td>\n",
              "      <td>1</td>\n",
              "    </tr>\n",
              "    <tr>\n",
              "      <th>1</th>\n",
              "      <td>35</td>\n",
              "      <td>210</td>\n",
              "      <td>0</td>\n",
              "    </tr>\n",
              "    <tr>\n",
              "      <th>2</th>\n",
              "      <td>26</td>\n",
              "      <td>220</td>\n",
              "      <td>비구매</td>\n",
              "    </tr>\n",
              "    <tr>\n",
              "      <th>3</th>\n",
              "      <td>29</td>\n",
              "      <td>260</td>\n",
              "      <td>1</td>\n",
              "    </tr>\n",
              "    <tr>\n",
              "      <th>4</th>\n",
              "      <td>22</td>\n",
              "      <td>110</td>\n",
              "      <td>0</td>\n",
              "    </tr>\n",
              "    <tr>\n",
              "      <th>5</th>\n",
              "      <td>32</td>\n",
              "      <td>210</td>\n",
              "      <td>0</td>\n",
              "    </tr>\n",
              "    <tr>\n",
              "      <th>6</th>\n",
              "      <td>37</td>\n",
              "      <td>310</td>\n",
              "      <td>1</td>\n",
              "    </tr>\n",
              "    <tr>\n",
              "      <th>7</th>\n",
              "      <td>21</td>\n",
              "      <td>110</td>\n",
              "      <td>0</td>\n",
              "    </tr>\n",
              "    <tr>\n",
              "      <th>8</th>\n",
              "      <td>28</td>\n",
              "      <td>210</td>\n",
              "      <td>0</td>\n",
              "    </tr>\n",
              "    <tr>\n",
              "      <th>9</th>\n",
              "      <td>31</td>\n",
              "      <td>260</td>\n",
              "      <td>1</td>\n",
              "    </tr>\n",
              "    <tr>\n",
              "      <th>10</th>\n",
              "      <td>36</td>\n",
              "      <td>390</td>\n",
              "      <td>1</td>\n",
              "    </tr>\n",
              "    <tr>\n",
              "      <th>11</th>\n",
              "      <td>23</td>\n",
              "      <td>110</td>\n",
              "      <td>0</td>\n",
              "    </tr>\n",
              "    <tr>\n",
              "      <th>12</th>\n",
              "      <td>32</td>\n",
              "      <td>340</td>\n",
              "      <td>0</td>\n",
              "    </tr>\n",
              "    <tr>\n",
              "      <th>13</th>\n",
              "      <td>29</td>\n",
              "      <td>170</td>\n",
              "      <td>1</td>\n",
              "    </tr>\n",
              "    <tr>\n",
              "      <th>14</th>\n",
              "      <td>37</td>\n",
              "      <td>340</td>\n",
              "      <td>1</td>\n",
              "    </tr>\n",
              "    <tr>\n",
              "      <th>15</th>\n",
              "      <td>31</td>\n",
              "      <td>240</td>\n",
              "      <td>0</td>\n",
              "    </tr>\n",
              "    <tr>\n",
              "      <th>16</th>\n",
              "      <td>27</td>\n",
              "      <td>230</td>\n",
              "      <td>0</td>\n",
              "    </tr>\n",
              "    <tr>\n",
              "      <th>17</th>\n",
              "      <td>23</td>\n",
              "      <td>210</td>\n",
              "      <td>0</td>\n",
              "    </tr>\n",
              "    <tr>\n",
              "      <th>18</th>\n",
              "      <td>40</td>\n",
              "      <td>440</td>\n",
              "      <td>1</td>\n",
              "    </tr>\n",
              "    <tr>\n",
              "      <th>19</th>\n",
              "      <td>27</td>\n",
              "      <td>140</td>\n",
              "      <td>0</td>\n",
              "    </tr>\n",
              "  </tbody>\n",
              "</table>\n",
              "</div>"
            ],
            "text/plain": [
              "    age  salary purchase\n",
              "0    26     160        1\n",
              "1    35     210        0\n",
              "2    26     220     비구매 \n",
              "3    29     260        1\n",
              "4    22     110        0\n",
              "5    32     210        0\n",
              "6    37     310        1\n",
              "7    21     110        0\n",
              "8    28     210        0\n",
              "9    31     260        1\n",
              "10   36     390        1\n",
              "11   23     110        0\n",
              "12   32     340        0\n",
              "13   29     170        1\n",
              "14   37     340        1\n",
              "15   31     240        0\n",
              "16   27     230        0\n",
              "17   23     210        0\n",
              "18   40     440        1\n",
              "19   27     140        0"
            ]
          },
          "execution_count": 16,
          "metadata": {},
          "output_type": "execute_result"
        }
      ],
      "source": [
        "# 3. 데이터 전처리\n",
        "\n",
        "# \"purchase\" 컬럼을 범주형 데이터에서 수치형 데이터로 변환\n",
        "purchase[\"purchase\"] = purchase[\"purchase\"].replace(\"구매\", 1)\n",
        "purchase[\"purchase\"] = purchase[\"purchase\"].replace(\"비구매\", 0)\n",
        "purchase"
      ]
    }
  ],
  "metadata": {
    "colab": {
      "include_colab_link": true,
      "provenance": []
    },
    "kernelspec": {
      "display_name": "Python 3",
      "language": "python",
      "name": "python3"
    },
    "language_info": {
      "codemirror_mode": {
        "name": "ipython",
        "version": 3
      },
      "file_extension": ".py",
      "mimetype": "text/x-python",
      "name": "python",
      "nbconvert_exporter": "python",
      "pygments_lexer": "ipython3",
      "version": "3.10.4"
    }
  },
  "nbformat": 4,
  "nbformat_minor": 0
}
