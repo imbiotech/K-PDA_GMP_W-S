{
  "cells": [
    {
      "cell_type": "markdown",
      "metadata": {
        "colab_type": "text",
        "id": "view-in-github"
      },
      "source": [
        "<a href=\"https://colab.research.google.com/github/imbiotech/skbtML/blob/main/4-2.Regression_Model.ipynb\" target=\"_parent\"><img src=\"https://colab.research.google.com/assets/colab-badge.svg\" alt=\"Open In Colab\"/></a>"
      ]
    },
    {
      "cell_type": "markdown",
      "metadata": {
        "id": "DrlhJTn22VNk"
      },
      "source": [
        "### `4-2.Regression Analysis`\n",
        "\n",
        "* 회귀 분석은 산점도(Scatter Plot)에서 원래의 점 데이터와 가장 오차가 적은 선을 찾는 지도 학습을 의미\n",
        "\n",
        "* 오차의 측정법:(편차(잔차, 실제값 - 예측값)일 때)\n",
        "    * 절대값 거리 = abs(편차)\n",
        "    * 민코프스키 거리 = sum{(편차)**n}^(1/n)\n",
        "    * 제곱 거리 =(편차)**2\n",
        "\n",
        "* 오차 함수(비용 함수, Error function, Cost function)\n",
        "    * 편차 제곱의 합\n",
        "\n",
        "* 적합도가 높은 선을 찾기 위해 = 오차(비용)가 낮은 선을 찾기 위해, 최소제곱법(Least Square Method)을 사용하여 모델을 구함\n",
        "    * 사회 과학 영역에서는 직선형 회귀 모델을 많이 사용하고, 자연 과학 영역에서는 비선형 회귀 모델을 많이 사용함\n",
        "\n",
        "* Regression Model의 분류\n",
        "    * Linear vs Nonlinear\n",
        "        * 직선형 회귀(Linear Regression): y vs x 가 일차식 모양으로 이뤄짐\n",
        "        * 비선형 회귀(Nonlinear Regression): 직선형 회귀를 제외한 모든 모형\n",
        "    * Simple vs Multiple\n",
        "        * 단순 회귀(Simple Regressino): 독립 변수가 1개\n",
        "        * 다중 회귀(Multiple Regression): 독립 변수가 2개 이상\n",
        "\n",
        "* Regression Model의 평가\n",
        "    * 결정 계수(R2, R-squared)\n",
        "        * Regression Model의 성능 평가를 위한 기본적 지표\n",
        "        * 일반적으로 0~1 사이에 분포하고, 1에 가까울 수록 완벽한 예측\n",
        "            * 실제 모델에 대해서 70% 이상 정도일 경우 뛰어난 성능의 Model로 평가(from 김화종 교수님 자료)\n",
        "            * 사회 과학 영역에서는 60%, 자연 과학 영역에서는 90% 이상일 경우 쓸만한 Model로 평가하고 일반적으로는 70% 이상은 되어야 쓸만한 Model이라는 주관적 평가 가능(from MySUNI 머신러닝 이해와 실습 상)\n",
        "    * F-value & P-value\n",
        "        * Regression Model의 신뢰도를 통계적으로 평가하기 위해 사용하는 지표\n",
        "        * F-value는 값이 클수록 신뢰도가 높음\n",
        "        * P-value는 0.05 또는 0.01 보다 작아야 안정된 것으로 평가함\n",
        "        * F-value와 P-value는 일반적으로 반비례함\n",
        "    * T-value\n",
        "        * Regression Model의 계수 신뢰도를 평가하는 지표\n",
        "        \n",
        "\n"
      ]
    },
    {
      "cell_type": "markdown",
      "metadata": {
        "id": "aVAG9Ocz2VNn"
      },
      "source": [
        "##### 회귀 모델의 성능 평가\n",
        "- 선형 회귀를 포함한 회귀 모델의 성능을 평가하는 지표로 다음과 같은 수치들을 확인함\n",
        "    - MAE(Mean Absolute Error, 편차 절대값의 평균)\n",
        "    - MSE(Mean Squared Error, 편차 제곱의 평균)\n",
        "    - RMSE(Root Mean Squared Error, 편차 제곱의 평균의 제곱근)\n",
        "        - 위 3개 지표는 편차(= 예측 - 실측)을 평가하는 지표\n",
        "        - 편차의 음수/양수 분포로 인한 상쇄 영향을 줄이기 위해 절대값(MAE) 또는 제곱(MSE)을 사용하거나, 다시 제곱으로 인한 과대평가 가능성을 줄이기 위해 제곱근을 적용한 지표(RMSE)\n",
        "    - R-Sqaured(R2)\n",
        "        - 회귀 모델의 성능 평가를 위한 기본적인 지표\n",
        "        - MSE를 분산으로 정규화한 값을 사용\n",
        "        - 일반적으로 0~1 사이에 분포하며, 1에 가까울 수록 완벽한 예측\n",
        "            - 실제 모델에 대해서는 70% 이상만 되어도 꽤 뛰어난 성능의 예측 모듈로 평가함\n",
        "        - 음수도 나올 수 있음"
      ]
    },
    {
      "cell_type": "markdown",
      "metadata": {
        "id": "20Vd-QOc2VNn"
      },
      "source": [
        "---\n",
        "#### 코드블럭1\n",
        "**_Regression Model 예시 코드 1 시작_**\n",
        "\n",
        "Nonlinear Regression을 테스트하기 위한 가상 Model"
      ]
    },
    {
      "cell_type": "code",
      "execution_count": null,
      "metadata": {
        "id": "02bsj3Ra2VNn"
      },
      "outputs": [],
      "source": [
        "from sklearn import linear_model\n",
        "import matplotlib.pyplot as plt\n",
        "import numpy as np\n",
        "\n",
        "\n",
        "# Nonlinear Regression Model 생성을 위한 임의의 데이터 및 결과 생성\n",
        "# 데이터 생성을 위해 -10 ~ +10 까지 0.02 간격으로 1000개의 숫자 생성 후 1,000 X 1 형태의 2차원 배열로 변환\n",
        "values = np.arange(-10, +10, 1/50).reshape(-1,1)\n",
        "\n",
        "\n",
        "#(가상의) 실측 데이터 생성을 위해 vals 데이터에 대한 결과값 생성, y = x^2 + noise(noise는 표준 정규 분포를 따름), 데이터 생성 후 1,000 X 1 형태의 2차원 배열로 변환\n",
        "y_val = values**2 + np.random.randn(len(values),1) * 30\n",
        "\n",
        "\n",
        "# vals vs y_val 시각화\n",
        "plt.scatter(values, y_val, c=\"black\",s=30,marker=\"x\",label=\"y_val\")\n",
        "plt.legend()\n",
        "plt.show()"
      ]
    },
    {
      "cell_type": "code",
      "execution_count": null,
      "metadata": {
        "id": "GoKCMdNY2VNo"
      },
      "outputs": [],
      "source": [
        "### Case 1. values만 특성으로 사용한 훈련 ###\n",
        "\n",
        "# Linear Regression Model 생성\n",
        "model = linear_model.LinearRegression()\n",
        "\n",
        "\n",
        "# 모델 훈련 및 예측 결과 도출(훈련 데이터: values, 훈련 결과: y_val)\n",
        "model.fit(values, y_val)\n",
        "y_pred1 = model.predict(values)\n",
        "\n",
        "\n",
        "# 예측 결과를 시각화\n",
        "plt.plot(values, y_pred1, linestyle=\"--\", color=\"red\", label=\"Sample\") # y_pred1을 선으로 표시\n",
        "plt.scatter(values, y_val, c=\"black\",s=30,marker=\"x\",label=\"Sample Data\") # y_val을 산점도 형태로 표시\n",
        "plt.legend()\n",
        "plt.show()\n",
        "\n",
        "\n",
        "# 훈련된 모델의 가중치 확인\n",
        "print(model.coef_) # 가중치 출력\n",
        "print(model.intercept_) # 절편 출력\n",
        "print(model.score(values, y_val)) # 모델의 정확도 출력, 결정 계수(R^2) 출력"
      ]
    },
    {
      "cell_type": "markdown",
      "metadata": {
        "id": "kgvFqDnS2VNo"
      },
      "source": [
        "* 여러 특성을 고려해야 하는 상황에서 Case 1과 같이 한 개의 특성만 사용한 Linear Regression을 진행할 경우 매우 부정확한 모델이 생성됨, R^2 << 0.7"
      ]
    },
    {
      "cell_type": "code",
      "execution_count": null,
      "metadata": {
        "id": "WEGom68o2VNo"
      },
      "outputs": [],
      "source": [
        "### Case 2. values**2와 values 두 가지 특성을 포함한 훈련 ###\n",
        "\n",
        "# Linear Regression Model 생성\n",
        "model = linear_model.LinearRegression()\n",
        "\n",
        "\n",
        "# np.c_ 함수를 통해 values**2 특성과 values 특성 데이터를 결합하여 1,000 X 2 형태의 2차원 배열로 변환, c_ = concatenate\n",
        "x_train = np.c_[values**2, values]\n",
        "\n",
        "\n",
        "# 모델 훈련 및 예측 결과 도출(훈련 데이터: x_train, 훈련 결과: y_val)\n",
        "model.fit(x_train, y_val)\n",
        "y_pred2 = model.predict(x_train)\n",
        "\n",
        "\n",
        "# 예측 결과를 시각화\n",
        "plt.plot(values, y_pred2, linestyle=\"--\", color=\"red\", label=\"Sample\") # y_pred2을 선으로 표시\n",
        "plt.scatter(values, y_val, c=\"black\",s=30,marker=\"x\",label=\"Sample Data\") # y_val을 산점도 형태로 표시\n",
        "plt.legend()\n",
        "plt.show()\n",
        "\n",
        "\n",
        "# 훈련된 모델의 가중치 확인\n",
        "print(model.coef_) # 가중치 출력\n",
        "print(model.intercept_) # 절편 출력\n",
        "print(model.score(x_train, y_val)) # 모델의 결정 계수(R^2) 출력"
      ]
    },
    {
      "cell_type": "markdown",
      "metadata": {
        "id": "PpJVjL8h2VNp"
      },
      "source": [
        "**_Regression Model 예시 코드 1 종료_**\n",
        "\n",
        "---"
      ]
    },
    {
      "cell_type": "markdown",
      "metadata": {
        "id": "vpAOII9V2VNp"
      },
      "source": [
        "---\n",
        "#### 코드블럭2\n",
        "**_Regression Model 예시 코드 2 시작_**\n",
        "\n",
        "당뇨병 환자 데이터에 대한 Regression Model"
      ]
    },
    {
      "cell_type": "code",
      "execution_count": null,
      "metadata": {
        "id": "5AjCxGae2VNp"
      },
      "outputs": [],
      "source": [
        "from sklearn import datasets, linear_model\n",
        "from sklearn.metrics import mean_squared_error, r2_score\n",
        "\n",
        "\n",
        "# 데이터 불러오기, 당뇨 환자 442명의 10 가지 특성 [\"age\", \"sex\", \"bmi\", \"bp\", \"s1\", \"s2\", \"s3\", \"s4\", \"s5\", \"s6\"]의 Scaling Data vs 혈당 측정치 데이터\n",
        "diabetes = datasets.load_diabetes()\n",
        "\n",
        "\n",
        "# 데이터 확인\n",
        "print(f\"Shape= {diabetes.data.shape}\\n\") # 데이터 형태 확인\n",
        "print(f\"Sample Data[:3]= {diabetes.data[:3]}\\n\") # 상위 3명의 환자 데이터 출력\n",
        "print(f\"Sample Data Length= {len(diabetes.data)}\\n\") # 환자 수 출력"
      ]
    },
    {
      "cell_type": "code",
      "execution_count": null,
      "metadata": {
        "id": "o8j1D6F02VNq"
      },
      "outputs": [],
      "source": [
        "# 훈련 데이터 및 훈련 결과 지정\n",
        "diabetes_x = diabetes.data[:,2].reshape(len(diabetes.data),1) # 3열 데이터(\"bmi\")만 사용하여 2차원 배열로 변환, 데이터\n",
        "diabetes_y = diabetes.target.reshape(len(diabetes.target),1) # 타겟 데이터(\"환자의 혈당치\")를 2차원 배열로 변환, 결과"
      ]
    },
    {
      "cell_type": "code",
      "execution_count": null,
      "metadata": {
        "id": "gNzwPNwe2VNq"
      },
      "outputs": [],
      "source": [
        "# 전체 데이터 중 20개를 검증 데이터로 사용, 나머지를 훈련 데이터로 사용\n",
        "diabetes_x_train = diabetes_x[:-20] # 훈련 데이터의 0~422번째 데이터를 사용\n",
        "diabetes_x_test = diabetes_x[-20:] # 검증 데이터의 423~442번째 데이터를 사용\n",
        "\n",
        "diabetes_y_train = diabetes_y[:-20] # 훈련 결과의 0~422번째 데이터를 사용\n",
        "diabetes_y_test = diabetes_y[-20:] # 검증 결과의 423~442번째 데이터를 사용"
      ]
    },
    {
      "cell_type": "code",
      "execution_count": null,
      "metadata": {
        "id": "H6PHmIrm2VNq"
      },
      "outputs": [],
      "source": [
        "# 모델 생성 및 훈련\n",
        "model = linear_model.LinearRegression()\n",
        "model.fit(diabetes_x_train, diabetes_y_train)\n",
        "\n",
        "\n",
        "# 검증 데이터를 사용하여 예측 결과 도출\n",
        "diabetes_y_pred = model.predict(diabetes_x_test)"
      ]
    },
    {
      "cell_type": "code",
      "execution_count": null,
      "metadata": {
        "id": "XZawAIsY2VNq"
      },
      "outputs": [],
      "source": [
        "# 모델의 가중치 확인\n",
        "print(\"Coefficients: \", model.coef_) # 가중치 출력\n",
        "print(\"Intercept: \", model.intercept_) # 절편 출력\n",
        "print(\"Mean squared error: %.2f\" % mean_squared_error(diabetes_y_test, diabetes_y_pred)) # MSE 출력\n",
        "print(\"Coefficient of determination: %.2f\" % r2_score(diabetes_y_test, diabetes_y_pred)) # R^2 출력\n",
        "\n",
        "\n",
        "# 예측 결과와 검증 결과를 시각화(bmi 지수와 혈당치 사이의 상관 관계)\n",
        "plt.scatter(diabetes_x_test, diabetes_y_test, color=\"black\")\n",
        "plt.plot(diabetes_x_test, diabetes_y_pred, color=\"blue\", linewidth=3)\n",
        "plt.xticks(())\n",
        "plt.yticks(())\n",
        "plt.show()"
      ]
    },
    {
      "cell_type": "markdown",
      "metadata": {
        "id": "LGaBkArX2VNq"
      },
      "source": [
        "**_Regression Model 예시 코드 2 종료_**\n",
        "\n",
        "---"
      ]
    },
    {
      "cell_type": "markdown",
      "metadata": {
        "id": "pn403OA82VNq"
      },
      "source": [
        "---\n",
        "#### 코드블럭3\n",
        "**_Regression Model 예시 코드 3 시작_**\n",
        "\n",
        "MeOH Peak에 대한 Regression Model"
      ]
    },
    {
      "cell_type": "code",
      "execution_count": null,
      "metadata": {
        "id": "_H4Y5cmH2VNq"
      },
      "outputs": [],
      "source": [
        "import pandas as pd\n",
        "import matplotlib.pyplot as plt\n",
        "from sklearn import linear_model\n",
        "import datetime\n",
        "\n",
        "\n",
        "# 데이터 불러오기, 시간 별로 분석된 MeOH Peak Profile 데이터\n",
        "data = pd.read_csv(\"https://raw.githubusercontent.com/imbiotech/skbtML/main/4-2-1.MeOH_profile.csv\")\n",
        "\n",
        "\n",
        "# Time 열은 datetime 형태로 변환 후 2023-11-06 21:00을 0 시간으로 설정하여 시간차 계산 후 float 형으로 변환\n",
        "data[\"Time\"] = pd.to_datetime(data[\"Time\"])\n",
        "timezero = data[\"Time\"][0]\n",
        "data[\"Time\"] = data[\"Time\"] - data[\"Time\"][0]\n",
        "data[\"Time\"] = data[\"Time\"].dt.total_seconds() / 3600\n",
        "data[\"Time\"] = data[\"Time\"].astype(float)\n",
        "print(data[\"Time\"])\n",
        "\n",
        "\n",
        "# Date 열을 인덱스로 설정\n",
        "data2 = data.copy()\n",
        "data2.set_index(\"Time\", inplace=True)\n",
        "\n",
        "\n",
        "# 데이터 시각화, x-axis: Time, y-axis: Area, Title: MeOH Peak Profile\n",
        "data2.plot()\n",
        "plt.title(\"MeOH Peak Profile\")\n",
        "plt.show()\n",
        "\n",
        "\n",
        "# 검증 없이 훈련 데이터만 사용하여 모델 생성 및 훈련\n",
        "model = linear_model.LinearRegression()\n",
        "model.fit(data[[\"Time\"]], data[[\"Area\"]])\n",
        "# Reshape your data either using array.reshape(-1, 1) if your data has a single feature or array.reshape(1, -1) if it contains a single sample.\n",
        "# 훈련 데이터의 형태가 1차원 배열이므로 2차원 배열로 변환 필요\n",
        "# 2차원으로 변환 필요한 이유? 2차원 배열로 변환하지 않으면 모델이 데이터를 인식하지 못함\n",
        "\n",
        "\n",
        "# 훈련 결과 확인\n",
        "print(f\"가중치(기울기): {model.coef_[0][0]}\") # 가중치 출력\n",
        "print(f\"절편: {model.intercept_[0]}\") # 절편 출력\n",
        "print(f'R2: {model.score(data[[\"Time\"]], data[[\"Area\"]])}') # 모델의 결정 계수(R^2) 출력\n",
        "\n",
        "\n",
        "# 훈련 결과 시각화\n",
        "plt.scatter(data[[\"Time\"]], data[[\"Area\"]], color=\"black\")\n",
        "plt.plot(data[[\"Time\"]], model.predict(data[[\"Time\"]]), color=\"blue\", linewidth=3)\n",
        "plt.show()\n",
        "\n",
        "\n",
        "# 생성된 모델로 Area가 0이되는 시간을 예측\n",
        "i = 0\n",
        "while True:\n",
        "    breakpoint = model.intercept_[0] + model.coef_[0][0] * i\n",
        "    if breakpoint <= 0:\n",
        "        break\n",
        "    i +=0.1\n",
        "print(\"Area가 0이 되는 시간: \", timezero + datetime.timedelta(hours=i))"
      ]
    },
    {
      "cell_type": "markdown",
      "metadata": {
        "id": "tWLTsoJU2VNr"
      },
      "source": [
        "**_Regression Model 예시 코드 3 종료_**\n",
        "\n",
        "---"
      ]
    }
  ],
  "metadata": {
    "colab": {
      "include_colab_link": true,
      "provenance": []
    },
    "kernelspec": {
      "display_name": "Python 3",
      "language": "python",
      "name": "python3"
    },
    "language_info": {
      "codemirror_mode": {
        "name": "ipython",
        "version": 3
      },
      "file_extension": ".py",
      "mimetype": "text/x-python",
      "name": "python",
      "nbconvert_exporter": "python",
      "pygments_lexer": "ipython3",
      "version": "3.10.4"
    }
  },
  "nbformat": 4,
  "nbformat_minor": 0
}
