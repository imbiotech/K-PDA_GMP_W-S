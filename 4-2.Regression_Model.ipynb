{
<<<<<<< HEAD
 "cells": [
  {
   "cell_type": "markdown",
   "metadata": {},
   "source": [
    "### `4-2.Regression Analysis`\n",
    "\n",
    "* 회귀 분석은 산점도(Scatter Plot)에서 원래의 점 데이터와 가장 오차가 적은 선을 찾는 지도 학습을 의미\n",
    "\n",
    "* 오차의 측정법:(편차(잔차, 실제값 - 예측값)일 때)\n",
    "    * 절대값 거리 = abs(편차)\n",
    "    * 민코프스키 거리 = sum{(편차)**n}^(1/n)\n",
    "    * 제곱 거리 =(편차)**2\n",
    "\n",
    "* 오차 함수(비용 함수, Error function, Cost function)\n",
    "    * 편차 제곱의 합\n",
    "\n",
    "* 적합도가 높은 선을 찾기 위해 = 오차(비용)가 낮은 선을 찾기 위해, 최소제곱법(Least Square Method)을 사용하여 모델을 구함\n",
    "    * 사회 과학 영역에서는 직선형 회귀 모델을 많이 사용하고, 자연 과학 영역에서는 비선형 회귀 모델을 많이 사용함\n",
    "\n",
    "* Regression Model의 분류\n",
    "    * Linear vs Nonlinear\n",
    "        * 직선형 회귀(Linear Regression): y vs x 가 일차식 모양으로 이뤄짐\n",
    "        * 비선형 회귀(Nonlinear Regression): 직선형 회귀를 제외한 모든 모형\n",
    "    * Simple vs Multiple\n",
    "        * 단순 회귀(Simple Regressino): 독립 변수가 1개\n",
    "        * 다중 회귀(Multiple Regression): 독립 변수가 2개 이상\n",
    "\n",
    "* Regression Model의 평가\n",
    "    * 결정 계수(R2, R-squared)\n",
    "        * Regression Model의 성능 평가를 위한 기본적 지표\n",
    "        * 일반적으로 0~1 사이에 분포하고, 1에 가까울 수록 완벽한 예측\n",
    "            * 실제 모델에 대해서 70% 이상 정도일 경우 뛰어난 성능의 Model로 평가(from 김화종 교수님 자료)\n",
    "            * 사회 과학 영역에서는 60%, 자연 과학 영역에서는 90% 이상일 경우 쓸만한 Model로 평가하고 일반적으로는 70% 이상은 되어야 쓸만한 Model이라는 주관적 평가 가능(from MySUNI 머신러닝 이해와 실습 상)\n",
    "    * F-value & P-value\n",
    "        * Regression Model의 신뢰도를 통계적으로 평가하기 위해 사용하는 지표\n",
    "        * F-value는 값이 클수록 신뢰도가 높음\n",
    "        * P-value는 0.05 또는 0.01 보다 작아야 안정된 것으로 평가함\n",
    "        * F-value와 P-value는 일반적으로 반비례함\n",
    "    * T-value\n",
    "        * Regression Model의 계수 신뢰도를 평가하는 지표\n",
    "        \n",
    "\n"
   ]
  },
  {
   "cell_type": "markdown",
   "metadata": {},
   "source": [
    "##### 회귀 모델의 성능 평가\n",
    "- 선형 회귀를 포함한 회귀 모델의 성능을 평가하는 지표로 다음과 같은 수치들을 확인함\n",
    "    - MAE(Mean Absolute Error, 편차 절대값의 평균)\n",
    "    - MSE(Mean Squared Error, 편차 제곱의 평균) \n",
    "    - RMSE(Root Mean Squared Error, 편차 제곱의 평균의 제곱근)\n",
    "        - 위 3개 지표는 편차(= 예측 - 실측)을 평가하는 지표\n",
    "        - 편차의 음수/양수 분포로 인한 상쇄 영향을 줄이기 위해 절대값(MAE) 또는 제곱(MSE)을 사용하거나, 다시 제곱으로 인한 과대평가 가능성을 줄이기 위해 제곱근을 적용한 지표(RMSE)\n",
    "    - R-Sqaured(R2)\n",
    "        - 회귀 모델의 성능 평가를 위한 기본적인 지표\n",
    "        - MSE를 분산으로 정규화한 값을 사용\n",
    "        - 일반적으로 0~1 사이에 분포하며, 1에 가까울 수록 완벽한 예측\n",
    "            - 실제 모델에 대해서는 70% 이상만 되어도 꽤 뛰어난 성능의 예측 모듈로 평가함\n",
    "        - 음수도 나올 수 있음"
   ]
  },
  {
   "cell_type": "markdown",
   "metadata": {},
   "source": [
    "---\n",
    "#### 코드블럭1\n",
    "**Regression Model 예시 코드 1 시작**\n",
    "\n",
    "Nonlinear Regression을 테스트하기 위한 가상 Model"
   ]
  },
  {
   "cell_type": "code",
   "execution_count": null,
   "metadata": {},
   "outputs": [],
   "source": [
    "from sklearn import linear_model\n",
    "import matplotlib.pyplot as plt\n",
    "import numpy as np\n",
    "\n",
    "\n",
    "# Nonlinear Regression Model 생성을 위한 임의의 데이터 및 결과 생성\n",
    "# 데이터 생성을 위해 -10 ~ +10 까지 0.02 간격으로 1000개의 숫자 생성 후 1,000 X 1 형태의 2차원 배열로 변환\n",
    "values = np.arange(-10, +10, 1/50).reshape(-1,1) \n",
    "\n",
    "\n",
    "#(가상의) 실측 데이터 생성을 위해 vals 데이터에 대한 결과값 생성, y = x^2 + noise(noise는 표준 정규 분포를 따름), 데이터 생성 후 1,000 X 1 형태의 2차원 배열로 변환 \n",
    "y_val = values**2 + np.random.randn(len(values),1) * 30\n",
    "\n",
    "\n",
    "# vals vs y_val 시각화\n",
    "plt.scatter(values, y_val, c=\"black\",s=30,marker=\"x\",label=\"y_val\")\n",
    "plt.legend()\n",
    "plt.show()"
   ]
  },
  {
   "cell_type": "code",
   "execution_count": null,
   "metadata": {},
   "outputs": [],
   "source": [
    "### Case 1. values만 특성으로 사용한 훈련 ###\n",
    "\n",
    "# Linear Regression Model 생성\n",
    "model = linear_model.LinearRegression()\n",
    "\n",
    "\n",
    "# 모델 훈련 및 예측 결과 도출(훈련 데이터: values, 훈련 결과: y_val)\n",
    "model.fit(values, y_val) \n",
    "y_pred1 = model.predict(values)\n",
    "\n",
    "\n",
    "# 예측 결과를 시각화\n",
    "plt.plot(values, y_pred1, linestyle=\"--\", color=\"red\", label=\"Sample\") # y_pred1을 선으로 표시\n",
    "plt.scatter(values, y_val, c=\"black\",s=30,marker=\"x\",label=\"Sample Data\") # y_val을 산점도 형태로 표시\n",
    "plt.legend()\n",
    "plt.show()\n",
    "\n",
    "\n",
    "# 훈련된 모델의 가중치 확인\n",
    "print(model.coef_) # 가중치 출력\n",
    "print(model.intercept_) # 절편 출력\n",
    "print(model.score(values, y_val)) # 모델의 정확도 출력, 결정 계수(R^2) 출력"
   ]
  },
  {
   "cell_type": "markdown",
   "metadata": {},
   "source": [
    "* 여러 특성을 고려해야 하는 상황에서 Case 1과 같이 한 개의 특성만 사용한 Linear Regression을 진행할 경우 매우 부정확한 모델이 생성됨, R^2 << 0.7"
   ]
  },
  {
   "cell_type": "code",
   "execution_count": null,
   "metadata": {},
   "outputs": [],
   "source": [
    "### Case 2. values**2와 values 두 가지 특성을 포함한 훈련 ###\n",
    "\n",
    "# Linear Regression Model 생성\n",
    "model = linear_model.LinearRegression()\n",
    "\n",
    "\n",
    "# np.c_ 함수를 통해 values**2 특성과 values 특성 데이터를 결합하여 1,000 X 2 형태의 2차원 배열로 변환, c_ = concatenate\n",
    "x_train = np.c_[values**2, values]\n",
    "\n",
    "\n",
    "# 모델 훈련 및 예측 결과 도출(훈련 데이터: x_train, 훈련 결과: y_val)\n",
    "model.fit(x_train, y_val) \n",
    "y_pred2 = model.predict(x_train)\n",
    "\n",
    "\n",
    "# 예측 결과를 시각화\n",
    "plt.plot(values, y_pred2, linestyle=\"--\", color=\"red\", label=\"Sample\") # y_pred2을 선으로 표시\n",
    "plt.scatter(values, y_val, c=\"black\",s=30,marker=\"x\",label=\"Sample Data\") # y_val을 산점도 형태로 표시\n",
    "plt.legend()\n",
    "plt.show()\n",
    "\n",
    "\n",
    "# 훈련된 모델의 가중치 확인\n",
    "print(model.coef_) # 가중치 출력\n",
    "print(model.intercept_) # 절편 출력\n",
    "print(model.score(x_train, y_val)) # 모델의 결정 계수(R^2) 출력"
   ]
  },
  {
   "cell_type": "markdown",
   "metadata": {},
   "source": [
    "**Regression Model 예시 코드 1 종료**\n",
    "\n",
    "---"
   ]
  },
  {
   "cell_type": "markdown",
   "metadata": {},
   "source": [
    "---\n",
    "#### 코드블럭2\n",
    "**Regression Model 예시 코드 2 시작**\n",
    "\n",
    "당뇨병 환자 데이터에 대한 Regression Model"
   ]
  },
  {
   "cell_type": "code",
   "execution_count": null,
   "metadata": {},
   "outputs": [],
   "source": [
    "from sklearn import datasets, linear_model\n",
    "from sklearn.metrics import mean_squared_error, r2_score\n",
    "\n",
    "\n",
    "# 데이터 불러오기, 당뇨 환자 442명의 10 가지 특성 [\"age\", \"sex\", \"bmi\", \"bp\", \"s1\", \"s2\", \"s3\", \"s4\", \"s5\", \"s6\"]의 Scaling Data vs 혈당 측정치 데이터\n",
    "diabetes = datasets.load_diabetes()\n",
    "\n",
    "\n",
    "# 데이터 확인\n",
    "print(f\"Shape= {diabetes.data.shape}\\n\") # 데이터 형태 확인\n",
    "print(f\"Sample Data[:3]= {diabetes.data[:3]}\\n\") # 상위 3명의 환자 데이터 출력\n",
    "print(f\"Sample Data Length= {len(diabetes.data)}\\n\") # 환자 수 출력"
   ]
  },
  {
   "cell_type": "code",
   "execution_count": null,
   "metadata": {},
   "outputs": [],
   "source": [
    "# 훈련 데이터 및 훈련 결과 지정\n",
    "diabetes_x = diabetes.data[:,2].reshape(len(diabetes.data),1) # 3열 데이터(\"bmi\")만 사용하여 2차원 배열로 변환, 데이터\n",
    "diabetes_y = diabetes.target.reshape(len(diabetes.target),1) # 타겟 데이터(\"환자의 혈당치\")를 2차원 배열로 변환, 결과"
   ]
  },
  {
   "cell_type": "code",
   "execution_count": null,
   "metadata": {},
   "outputs": [],
   "source": [
    "# 전체 데이터 중 20개를 검증 데이터로 사용, 나머지를 훈련 데이터로 사용\n",
    "diabetes_x_train = diabetes_x[:-20] # 훈련 데이터의 0~422번째 데이터를 사용\n",
    "diabetes_x_test = diabetes_x[-20:] # 검증 데이터의 423~442번째 데이터를 사용\n",
    "\n",
    "diabetes_y_train = diabetes_y[:-20] # 훈련 결과의 0~422번째 데이터를 사용\n",
    "diabetes_y_test = diabetes_y[-20:] # 검증 결과의 423~442번째 데이터를 사용"
   ]
  },
  {
   "cell_type": "code",
   "execution_count": null,
   "metadata": {},
   "outputs": [],
   "source": [
    "# 모델 생성 및 훈련\n",
    "model = linear_model.LinearRegression()\n",
    "model.fit(diabetes_x_train, diabetes_y_train)\n",
    "\n",
    "\n",
    "# 검증 데이터를 사용하여 예측 결과 도출\n",
    "diabetes_y_pred = model.predict(diabetes_x_test)"
   ]
  },
  {
   "cell_type": "code",
   "execution_count": null,
   "metadata": {},
   "outputs": [],
   "source": [
    "# 모델의 가중치 확인\n",
    "print(\"Coefficients: \", model.coef_) # 가중치 출력\n",
    "print(\"Intercept: \", model.intercept_) # 절편 출력\n",
    "print(\"Mean squared error: %.2f\" % mean_squared_error(diabetes_y_test, diabetes_y_pred)) # MSE 출력\n",
    "print(\"Coefficient of determination: %.2f\" % r2_score(diabetes_y_test, diabetes_y_pred)) # R^2 출력\n",
    "\n",
    "\n",
    "# 예측 결과와 검증 결과를 시각화(bmi 지수와 혈당치 사이의 상관 관계)\n",
    "plt.scatter(diabetes_x_test, diabetes_y_test, color=\"black\")\n",
    "plt.plot(diabetes_x_test, diabetes_y_pred, color=\"blue\", linewidth=3)\n",
    "plt.xticks(()) \n",
    "plt.yticks(()) \n",
    "plt.show()"
   ]
  },
  {
   "cell_type": "markdown",
   "metadata": {},
   "source": [
    "**Regression Model 예시 코드 2 종료**\n",
    "\n",
    "---"
   ]
  },
  {
   "cell_type": "markdown",
   "metadata": {},
   "source": [
    "---\n",
    "#### 코드블럭3\n",
    "**Regression Model 예시 코드 3 시작**\n",
    "\n",
    "MeOH Peak에 대한 Regression Model"
   ]
  },
  {
   "cell_type": "code",
   "execution_count": 7,
   "metadata": {},
   "outputs": [
=======
  "cells": [
>>>>>>> e2a00735482caa927fdc2c30600c22778b95291a
    {
      "cell_type": "markdown",
      "metadata": {
        "id": "view-in-github",
        "colab_type": "text"
      },
      "source": [
        "<a href=\"https://colab.research.google.com/github/imbiotech/skbtML/blob/main/4-2.Regression_Model.ipynb\" target=\"_parent\"><img src=\"https://colab.research.google.com/assets/colab-badge.svg\" alt=\"Open In Colab\"/></a>"
      ]
    },
    {
      "cell_type": "markdown",
      "metadata": {
        "id": "xkhlrQQpzORF"
      },
      "source": [
        "### `4-2.Regression Analysis`\n",
        "\n",
        "* 회귀 분석은 산점도(Scatter Plot)에서 원래의 점 데이터와 가장 오차가 적은 선을 찾는 지도 학습을 의미\n",
        "\n",
        "* 오차의 측정법:(편차(잔차, 실제값 - 예측값)일 때)\n",
        "    * 절대값 거리 = abs(편차)\n",
        "    * 민코프스키 거리 = sum{(편차)**n}^(1/n)\n",
        "    * 제곱 거리 =(편차)**2\n",
        "\n",
        "* 오차 함수(비용 함수, Error function, Cost function)\n",
        "    * 편차 제곱의 합\n",
        "\n",
        "* 적합도가 높은 선을 찾기 위해 = 오차(비용)가 낮은 선을 찾기 위해, 최소제곱법(Least Square Method)을 사용하여 모델을 구함\n",
        "    * 사회 과학 영역에서는 직선형 회귀 모델을 많이 사용하고, 자연 과학 영역에서는 비선형 회귀 모델을 많이 사용함\n",
        "\n",
        "* Regression Model의 분류\n",
        "    * Linear vs Nonlinear\n",
        "        * 직선형 회귀(Linear Regression): y vs x 가 일차식 모양으로 이뤄짐\n",
        "        * 비선형 회귀(Nonlinear Regression): 직선형 회귀를 제외한 모든 모형\n",
        "    * Simple vs Multiple\n",
        "        * 단순 회귀(Simple Regressino): 독립 변수가 1개\n",
        "        * 다중 회귀(Multiple Regression): 독립 변수가 2개 이상\n",
        "\n",
        "* Regression Model의 평가\n",
        "    * 결정 계수(R2, R-squared)\n",
        "        * Regression Model의 성능 평가를 위한 기본적 지표\n",
        "        * 일반적으로 0~1 사이에 분포하고, 1에 가까울 수록 완벽한 예측\n",
        "            * 실제 모델에 대해서 70% 이상 정도일 경우 뛰어난 성능의 Model로 평가(from 김화종 교수님 자료)\n",
        "            * 사회 과학 영역에서는 60%, 자연 과학 영역에서는 90% 이상일 경우 쓸만한 Model로 평가하고 일반적으로는 70% 이상은 되어야 쓸만한 Model이라는 주관적 평가 가능(from MySUNI 머신러닝 이해와 실습 상)\n",
        "    * F-value & P-value\n",
        "        * Regression Model의 신뢰도를 통계적으로 평가하기 위해 사용하는 지표\n",
        "        * F-value는 값이 클수록 신뢰도가 높음\n",
        "        * P-value는 0.05 또는 0.01 보다 작아야 안정된 것으로 평가함\n",
        "        * F-value와 P-value는 일반적으로 반비례함\n",
        "    * T-value\n",
        "        * Regression Model의 계수 신뢰도를 평가하는 지표\n",
        "        \n",
        "\n"
      ]
    },
    {
      "cell_type": "markdown",
      "metadata": {
        "id": "fOFyQ6ODzORJ"
      },
      "source": [
        "##### 회귀 모델의 성능 평가\n",
        "- 선형 회귀를 포함한 회귀 모델의 성능을 평가하는 지표로 다음과 같은 수치들을 확인함\n",
        "    - MAE(Mean Absolute Error, 편차 절대값의 평균)\n",
        "    - MSE(Mean Squared Error, 편차 제곱의 평균)\n",
        "    - RMSE(Root Mean Squared Error, 편차 제곱의 평균의 제곱근)\n",
        "        - 위 3개 지표는 편차(= 예측 - 실측)을 평가하는 지표\n",
        "        - 편차의 음수/양수 분포로 인한 상쇄 영향을 줄이기 위해 절대값(MAE) 또는 제곱(MSE)을 사용하거나, 다시 제곱으로 인한 과대평가 가능성을 줄이기 위해 제곱근을 적용한 지표(RMSE)\n",
        "    - R-Sqaured(R2)\n",
        "        - 회귀 모델의 성능 평가를 위한 기본적인 지표\n",
        "        - MSE를 분산으로 정규화한 값을 사용\n",
        "        - 일반적으로 0~1 사이에 분포하며, 1에 가까울 수록 완벽한 예측\n",
        "            - 실제 모델에 대해서는 70% 이상만 되어도 꽤 뛰어난 성능의 예측 모듈로 평가함\n",
        "        - 음수도 나올 수 있음"
      ]
    },
    {
      "cell_type": "markdown",
      "metadata": {
        "id": "DbO1BxZkzORJ"
      },
      "source": [
        "---\n",
        "#### 코드블럭1\n",
        "**Regression Model 예시 코드 1 시작**\n",
        "\n",
        "Nonlinear Regression을 테스트하기 위한 가상 Model"
      ]
    },
    {
      "cell_type": "code",
      "execution_count": null,
      "metadata": {
        "id": "jEKsUcGezORJ"
      },
      "outputs": [],
      "source": [
        "from sklearn import linear_model\n",
        "import matplotlib.pyplot as plt\n",
        "import numpy as np\n",
        "\n",
        "\n",
        "# Nonlinear Regression Model 생성을 위한 임의의 데이터 및 결과 생성\n",
        "# 데이터 생성을 위해 -10 ~ +10 까지 0.02 간격으로 1000개의 숫자 생성 후 1,000 X 1 형태의 2차원 배열로 변환\n",
        "values = np.arange(-10, +10, 1/50).reshape(-1,1)\n",
        "\n",
        "\n",
        "#(가상의) 실측 데이터 생성을 위해 vals 데이터에 대한 결과값 생성, y = x^2 + noise(noise는 표준 정규 분포를 따름), 데이터 생성 후 1,000 X 1 형태의 2차원 배열로 변환\n",
        "y_val = values**2 + np.random.randn(len(values),1) * 30\n",
        "\n",
        "\n",
        "# vals vs y_val 시각화\n",
        "plt.scatter(values, y_val, c=\"black\",s=30,marker=\"x\",label=\"y_val\")\n",
        "plt.legend()\n",
        "plt.show()"
      ]
    },
    {
      "cell_type": "code",
      "execution_count": null,
      "metadata": {
        "id": "CV_3O5M1zORK"
      },
      "outputs": [],
      "source": [
        "### Case 1. values만 특성으로 사용한 훈련 ###\n",
        "\n",
        "# Linear Regression Model 생성\n",
        "model = linear_model.LinearRegression()\n",
        "\n",
        "\n",
        "# 모델 훈련 및 예측 결과 도출(훈련 데이터: values, 훈련 결과: y_val)\n",
        "model.fit(values, y_val)\n",
        "y_pred1 = model.predict(values)\n",
        "\n",
        "\n",
        "# 예측 결과를 시각화\n",
        "plt.plot(values, y_pred1, linestyle=\"--\", color=\"red\", label=\"Sample\") # y_pred1을 선으로 표시\n",
        "plt.scatter(values, y_val, c=\"black\",s=30,marker=\"x\",label=\"Sample Data\") # y_val을 산점도 형태로 표시\n",
        "plt.legend()\n",
        "plt.show()\n",
        "\n",
        "\n",
        "# 훈련된 모델의 가중치 확인\n",
        "print(model.coef_) # 가중치 출력\n",
        "print(model.intercept_) # 절편 출력\n",
        "print(model.score(values, y_val)) # 모델의 정확도 출력, 결정 계수(R^2) 출력"
      ]
    },
    {
      "cell_type": "markdown",
      "metadata": {
        "id": "5KPZKSLzzORK"
      },
      "source": [
        "* 여러 특성을 고려해야 하는 상황에서 Case 1과 같이 한 개의 특성만 사용한 Linear Regression을 진행할 경우 매우 부정확한 모델이 생성됨, R^2 << 0.7"
      ]
    },
    {
      "cell_type": "code",
      "execution_count": null,
      "metadata": {
        "id": "nFZhGiWHzORL"
      },
      "outputs": [],
      "source": [
        "### Case 2. values**2와 values 두 가지 특성을 포함한 훈련 ###\n",
        "\n",
        "# Linear Regression Model 생성\n",
        "model = linear_model.LinearRegression()\n",
        "\n",
        "\n",
        "# np.c_ 함수를 통해 values**2 특성과 values 특성 데이터를 결합하여 1,000 X 2 형태의 2차원 배열로 변환, c_ = concatenate\n",
        "x_train = np.c_[values**2, values]\n",
        "\n",
        "\n",
        "# 모델 훈련 및 예측 결과 도출(훈련 데이터: x_train, 훈련 결과: y_val)\n",
        "model.fit(x_train, y_val)\n",
        "y_pred2 = model.predict(x_train)\n",
        "\n",
        "\n",
        "# 예측 결과를 시각화\n",
        "plt.plot(values, y_pred2, linestyle=\"--\", color=\"red\", label=\"Sample\") # y_pred2을 선으로 표시\n",
        "plt.scatter(values, y_val, c=\"black\",s=30,marker=\"x\",label=\"Sample Data\") # y_val을 산점도 형태로 표시\n",
        "plt.legend()\n",
        "plt.show()\n",
        "\n",
        "\n",
        "# 훈련된 모델의 가중치 확인\n",
        "print(model.coef_) # 가중치 출력\n",
        "print(model.intercept_) # 절편 출력\n",
        "print(model.score(x_train, y_val)) # 모델의 결정 계수(R^2) 출력"
      ]
    },
    {
      "cell_type": "markdown",
      "metadata": {
        "id": "uKh1ua3IzORL"
      },
      "source": [
        "**Regression Model 예시 코드 1 종료**\n",
        "\n",
        "---"
      ]
    },
    {
      "cell_type": "markdown",
      "metadata": {
        "id": "UeYxFbuFzORL"
      },
      "source": [
        "---\n",
        "#### 코드블럭2\n",
        "**Regression Model 예시 코드 2 시작**\n",
        "\n",
        "당뇨병 환자 데이터에 대한 Regression Model"
      ]
    },
    {
      "cell_type": "code",
      "execution_count": null,
      "metadata": {
        "id": "x4sB4OxBzORM"
      },
      "outputs": [],
      "source": [
        "from sklearn import datasets, linear_model\n",
        "from sklearn.metrics import mean_squared_error, r2_score\n",
        "\n",
        "\n",
        "# 데이터 불러오기, 당뇨 환자 442명의 10 가지 특성 [\"age\", \"sex\", \"bmi\", \"bp\", \"s1\", \"s2\", \"s3\", \"s4\", \"s5\", \"s6\"]의 Scaling Data vs 혈당 측정치 데이터\n",
        "diabetes = datasets.load_diabetes()\n",
        "\n",
        "\n",
        "# 데이터 확인\n",
        "print(f\"Shape= {diabetes.data.shape}\\n\") # 데이터 형태 확인\n",
        "print(f\"Sample Data[:3]= {diabetes.data[:3]}\\n\") # 상위 3명의 환자 데이터 출력\n",
        "print(f\"Sample Data Length= {len(diabetes.data)}\\n\") # 환자 수 출력"
      ]
    },
    {
      "cell_type": "code",
      "execution_count": null,
      "metadata": {
        "id": "LACqojNdzORM"
      },
      "outputs": [],
      "source": [
        "# 훈련 데이터 및 훈련 결과 지정\n",
        "diabetes_x = diabetes.data[:,2].reshape(len(diabetes.data),1) # 3열 데이터(\"bmi\")만 사용하여 2차원 배열로 변환, 데이터\n",
        "diabetes_y = diabetes.target.reshape(len(diabetes.target),1) # 타겟 데이터(\"환자의 혈당치\")를 2차원 배열로 변환, 결과"
      ]
    },
    {
      "cell_type": "code",
      "execution_count": null,
      "metadata": {
        "id": "bDFYNZ9RzORM"
      },
      "outputs": [],
      "source": [
        "# 전체 데이터 중 20개를 검증 데이터로 사용, 나머지를 훈련 데이터로 사용\n",
        "diabetes_x_train = diabetes_x[:-20] # 훈련 데이터의 0~422번째 데이터를 사용\n",
        "diabetes_x_test = diabetes_x[-20:] # 검증 데이터의 423~442번째 데이터를 사용\n",
        "\n",
        "diabetes_y_train = diabetes_y[:-20] # 훈련 결과의 0~422번째 데이터를 사용\n",
        "diabetes_y_test = diabetes_y[-20:] # 검증 결과의 423~442번째 데이터를 사용"
      ]
    },
    {
      "cell_type": "code",
      "execution_count": null,
      "metadata": {
        "id": "nFR1sfaCzORM"
      },
      "outputs": [],
      "source": [
        "# 모델 생성 및 훈련\n",
        "model = linear_model.LinearRegression()\n",
        "model.fit(diabetes_x_train, diabetes_y_train)\n",
        "\n",
        "\n",
        "# 검증 데이터를 사용하여 예측 결과 도출\n",
        "diabetes_y_pred = model.predict(diabetes_x_test)"
      ]
    },
    {
      "cell_type": "code",
      "execution_count": null,
      "metadata": {
        "id": "CPsCaF94zORM"
      },
      "outputs": [],
      "source": [
        "# 모델의 가중치 확인\n",
        "print(\"Coefficients: \", model.coef_) # 가중치 출력\n",
        "print(\"Intercept: \", model.intercept_) # 절편 출력\n",
        "print(\"Mean squared error: %.2f\" % mean_squared_error(diabetes_y_test, diabetes_y_pred)) # MSE 출력\n",
        "print(\"Coefficient of determination: %.2f\" % r2_score(diabetes_y_test, diabetes_y_pred)) # R^2 출력\n",
        "\n",
        "\n",
        "# 예측 결과와 검증 결과를 시각화(bmi 지수와 혈당치 사이의 상관 관계)\n",
        "plt.scatter(diabetes_x_test, diabetes_y_test, color=\"black\")\n",
        "plt.plot(diabetes_x_test, diabetes_y_pred, color=\"blue\", linewidth=3)\n",
        "plt.xticks(())\n",
        "plt.yticks(())\n",
        "plt.show()"
      ]
    },
    {
      "cell_type": "markdown",
      "metadata": {
        "id": "11zcBJ9mzORM"
      },
      "source": [
        "**Regression Model 예시 코드 2 종료**\n",
        "\n",
        "---"
      ]
    },
    {
      "cell_type": "markdown",
      "metadata": {
        "id": "SbwVOj3fzORN"
      },
      "source": [
        "---\n",
        "#### 코드블럭3\n",
        "**Regression Model 예시 코드 3 시작**\n",
        "\n",
        "MeOH Peak에 대한 Regression Model"
      ]
    },
    {
      "cell_type": "code",
      "execution_count": null,
      "metadata": {
        "id": "tZAXFU3RzORN",
        "outputId": "8f5259d9-879d-4ee1-e3e8-e30fb73bdfb2"
      },
      "outputs": [
        {
          "name": "stdout",
          "output_type": "stream",
          "text": [
            "0       0.0\n",
            "1       8.0\n",
            "2      16.0\n",
            "3      24.0\n",
            "4      32.0\n",
            "      ...  \n",
            "57    456.0\n",
            "58    464.0\n",
            "59    472.0\n",
            "60    480.0\n",
            "61    488.0\n",
            "Name: Time, Length: 62, dtype: float64\n"
          ]
        },
        {
          "data": {
            "image/png": "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",
            "text/plain": [
              "<Figure size 640x480 with 1 Axes>"
            ]
          },
          "metadata": {},
          "output_type": "display_data"
        },
        {
          "name": "stdout",
          "output_type": "stream",
          "text": [
            "가중치(기울기): -0.10780979577447057\n",
            "절편: 132.31090307219662\n",
            "R2: 0.8267300081732168\n"
          ]
        },
        {
          "data": {
            "image/png": "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",
            "text/plain": [
              "<Figure size 640x480 with 1 Axes>"
            ]
          },
          "metadata": {},
          "output_type": "display_data"
        },
        {
          "name": "stdout",
          "output_type": "stream",
          "text": [
            "Area가 0이 되는 시간:  2023-12-28 00:18:00\n"
          ]
        }
      ],
      "source": [
        "import pandas as pd\n",
        "import matplotlib.pyplot as plt\n",
        "from sklearn import linear_model\n",
        "import datetime\n",
        "\n",
        "\n",
        "# 데이터 불러오기, 시간 별로 분석된 MeOH Peak Profile 데이터\n",
        "data = pd.read_csv(\"4-2-1.MeOH_profile.csv\")\n",
        "\n",
        "\n",
        "# Time 열은 datetime 형태로 변환 후 2023-11-06 21:00을 0 시간으로 설정하여 시간차 계산 후 float 형으로 변환\n",
        "data[\"Time\"] = pd.to_datetime(data[\"Time\"])\n",
        "timezero = data[\"Time\"][0]\n",
        "data[\"Time\"] = data[\"Time\"] - data[\"Time\"][0]\n",
        "data[\"Time\"] = data[\"Time\"].dt.total_seconds() / 3600\n",
        "data[\"Time\"] = data[\"Time\"].astype(float)\n",
        "print(data[\"Time\"])\n",
        "\n",
        "\n",
        "# Date 열을 인덱스로 설정\n",
        "data2 = data.copy()\n",
        "data2.set_index(\"Time\", inplace=True)\n",
        "\n",
        "\n",
        "# 데이터 시각화, x-axis: Time, y-axis: Area, Title: MeOH Peak Profile\n",
        "data2.plot()\n",
        "plt.title(\"MeOH Peak Profile\")\n",
        "plt.show()\n",
        "\n",
        "\n",
        "# 검증 없이 훈련 데이터만 사용하여 모델 생성 및 훈련\n",
        "model = linear_model.LinearRegression()\n",
        "model.fit(data[[\"Time\"]], data[[\"Area\"]])\n",
        "# Reshape your data either using array.reshape(-1, 1) if your data has a single feature or array.reshape(1, -1) if it contains a single sample.\n",
        "# 훈련 데이터의 형태가 1차원 배열이므로 2차원 배열로 변환 필요\n",
        "# 2차원으로 변환 필요한 이유? 2차원 배열로 변환하지 않으면 모델이 데이터를 인식하지 못함\n",
        "\n",
        "\n",
        "# 훈련 결과 확인\n",
        "print(f\"가중치(기울기): {model.coef_[0][0]}\") # 가중치 출력\n",
        "print(f\"절편: {model.intercept_[0]}\") # 절편 출력\n",
        "print(f'R2: {model.score(data[[\"Time\"]], data[[\"Area\"]])}') # 모델의 결정 계수(R^2) 출력\n",
        "\n",
        "\n",
        "# 훈련 결과 시각화\n",
        "plt.scatter(data[[\"Time\"]], data[[\"Area\"]], color=\"black\")\n",
        "plt.plot(data[[\"Time\"]], model.predict(data[[\"Time\"]]), color=\"blue\", linewidth=3)\n",
        "plt.show()\n",
        "\n",
        "\n",
        "# 생성된 모델로 Area가 0이되는 시간을 예측\n",
        "i = 0\n",
        "while True:\n",
        "    breakpoint = model.intercept_[0] + model.coef_[0][0] * i\n",
        "    if breakpoint <= 0:\n",
        "        break\n",
        "    i +=0.1\n",
        "print(\"Area가 0이 되는 시간: \", timezero + datetime.timedelta(hours=i))"
      ]
    },
    {
      "cell_type": "markdown",
      "metadata": {
        "id": "qV162NOvzORN"
      },
      "source": [
        "**Regression Model 예시 코드 3 종료**\n",
        "\n",
        "---"
      ]
    }
  ],
  "metadata": {
    "kernelspec": {
      "display_name": "Python 3",
      "language": "python",
      "name": "python3"
    },
    "language_info": {
      "codemirror_mode": {
        "name": "ipython",
        "version": 3
      },
      "file_extension": ".py",
      "mimetype": "text/x-python",
      "name": "python",
      "nbconvert_exporter": "python",
      "pygments_lexer": "ipython3",
      "version": "3.10.4"
    },
    "colab": {
      "provenance": [],
      "include_colab_link": true
    }
<<<<<<< HEAD
   ],
   "source": [
    "import pandas as pd\n",
    "import matplotlib.pyplot as plt\n",
    "from sklearn import linear_model\n",
    "import datetime\n",
    "\n",
    "\n",
    "# 데이터 불러오기, 시간 별로 분석된 MeOH Peak Profile 데이터\n",
    "data = pd.read_csv(\"https://raw.githubusercontent.com/imbiotech/skbtML/main/4-2-1.MeOH_profile.csv\")\n",
    "\n",
    "\n",
    "# Time 열은 datetime 형태로 변환 후 2023-11-06 21:00을 0 시간으로 설정하여 시간차 계산 후 float 형으로 변환\n",
    "data[\"Time\"] = pd.to_datetime(data[\"Time\"])\n",
    "timezero = data[\"Time\"][0]\n",
    "data[\"Time\"] = data[\"Time\"] - data[\"Time\"][0]\n",
    "data[\"Time\"] = data[\"Time\"].dt.total_seconds() / 3600\n",
    "data[\"Time\"] = data[\"Time\"].astype(float)\n",
    "print(data[\"Time\"])\n",
    "\n",
    "\n",
    "# Date 열을 인덱스로 설정\n",
    "data2 = data.copy()\n",
    "data2.set_index(\"Time\", inplace=True)\n",
    "\n",
    "\n",
    "# 데이터 시각화, x-axis: Time, y-axis: Area, Title: MeOH Peak Profile\n",
    "data2.plot()\n",
    "plt.title(\"MeOH Peak Profile\")\n",
    "plt.show()\n",
    "\n",
    "\n",
    "# 검증 없이 훈련 데이터만 사용하여 모델 생성 및 훈련\n",
    "model = linear_model.LinearRegression()\n",
    "model.fit(data[[\"Time\"]], data[[\"Area\"]])\n",
    "# Reshape your data either using array.reshape(-1, 1) if your data has a single feature or array.reshape(1, -1) if it contains a single sample.\n",
    "# 훈련 데이터의 형태가 1차원 배열이므로 2차원 배열로 변환 필요\n",
    "# 2차원으로 변환 필요한 이유? 2차원 배열로 변환하지 않으면 모델이 데이터를 인식하지 못함\n",
    "\n",
    "\n",
    "# 훈련 결과 확인\n",
    "print(f\"가중치(기울기): {model.coef_[0][0]}\") # 가중치 출력\n",
    "print(f\"절편: {model.intercept_[0]}\") # 절편 출력\n",
    "print(f'R2: {model.score(data[[\"Time\"]], data[[\"Area\"]])}') # 모델의 결정 계수(R^2) 출력\n",
    "\n",
    "\n",
    "# 훈련 결과 시각화\n",
    "plt.scatter(data[[\"Time\"]], data[[\"Area\"]], color=\"black\")\n",
    "plt.plot(data[[\"Time\"]], model.predict(data[[\"Time\"]]), color=\"blue\", linewidth=3)\n",
    "plt.show()\n",
    "\n",
    "\n",
    "# 생성된 모델로 Area가 0이되는 시간을 예측\n",
    "i = 0\n",
    "while True:\n",
    "    breakpoint = model.intercept_[0] + model.coef_[0][0] * i\n",
    "    if breakpoint <= 0:\n",
    "        break\n",
    "    i +=0.1\n",
    "print(\"Area가 0이 되는 시간: \", timezero + datetime.timedelta(hours=i))"
   ]
=======
>>>>>>> e2a00735482caa927fdc2c30600c22778b95291a
  },
  "nbformat": 4,
  "nbformat_minor": 0
}